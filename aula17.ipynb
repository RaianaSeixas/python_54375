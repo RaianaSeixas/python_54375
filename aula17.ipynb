{
 "cells": [
  {
   "cell_type": "code",
   "execution_count": 1,
   "metadata": {},
   "outputs": [],
   "source": [
    "#!pip install beautifulsoup4"
   ]
  },
  {
   "cell_type": "code",
   "execution_count": 2,
   "metadata": {},
   "outputs": [],
   "source": [
    "import pandas as pd\n",
    "import re\n",
    "\n",
    "import requests\n",
    "from bs4 import BeautifulSoup"
   ]
  },
  {
   "cell_type": "markdown",
   "metadata": {},
   "source": [
    "### Regex"
   ]
  },
  {
   "cell_type": "code",
   "execution_count": 21,
   "metadata": {},
   "outputs": [],
   "source": [
    "texto = \"\"\"\n",
    "O telefone da farmácia é 3000-3232, mas eles só atendem até as 18h em dias úteis.\n",
    "Se precisar entrar em contato fora desse horário, você pode enviar uma mensagem para o celular de emergência no número (11) 98765-4321.\n",
    "Importante ressaltar que hoje, 27/02/2024, é o último dia para aproveitar a promoção especial de medicamentos que começou em 01/02/2024.\n",
    "Não esqueça de apresentar seu CPF na hora da compra, o número 1.78923.456-00 é um exemplo válido.\n",
    "Para mais informações, acesse nosso site ou entre em contato diretamente\n",
    "(12)98765-4321\n",
    "27-02-2024.\n",
    "\"\"\""
   ]
  },
  {
   "cell_type": "code",
   "execution_count": 4,
   "metadata": {},
   "outputs": [
    {
     "data": {
      "text/plain": [
       "['27/02/2024', '01/02/2024', '27-02-2024']"
      ]
     },
     "execution_count": 4,
     "metadata": {},
     "output_type": "execute_result"
    }
   ],
   "source": [
    "pattern = r'\\d{2}/\\d{2}/\\d{4}|\\d{2}-\\d{2}-\\d{4}'\n",
    "re.findall(pattern, texto)"
   ]
  },
  {
   "cell_type": "code",
   "execution_count": 5,
   "metadata": {},
   "outputs": [
    {
     "data": {
      "text/plain": [
       "['3000-3232', '(11) 98765-4321', '(12)98765-4321', '02-2024']"
      ]
     },
     "execution_count": 5,
     "metadata": {},
     "output_type": "execute_result"
    }
   ],
   "source": [
    "pattern = r'\\(?\\d{2}\\)\\s?\\d+-\\d{4,5}|\\d+-\\d{4,5}'\n",
    "\n",
    "re.findall(pattern, texto)"
   ]
  },
  {
   "cell_type": "markdown",
   "metadata": {},
   "source": [
    "### BeautifulSoup"
   ]
  },
  {
   "cell_type": "code",
   "execution_count": 6,
   "metadata": {},
   "outputs": [],
   "source": [
    "url = 'https://www.google.com'"
   ]
  },
  {
   "cell_type": "code",
   "execution_count": 7,
   "metadata": {},
   "outputs": [
    {
     "data": {
      "text/plain": [
       "200"
      ]
     },
     "execution_count": 7,
     "metadata": {},
     "output_type": "execute_result"
    }
   ],
   "source": [
    "response = requests.get(url)\n",
    "response.status_code"
   ]
  },
  {
   "cell_type": "code",
   "execution_count": 8,
   "metadata": {},
   "outputs": [
    {
     "name": "stdout",
     "output_type": "stream",
     "text": [
      "https://www.google.com/imghp?hl=pt-BR&tab=wi\n",
      "https://maps.google.com.br/maps?hl=pt-BR&tab=wl\n",
      "https://play.google.com/?hl=pt-BR&tab=w8\n",
      "https://www.youtube.com/?tab=w1\n",
      "https://news.google.com/?tab=wn\n",
      "https://mail.google.com/mail/?tab=wm\n",
      "https://drive.google.com/?tab=wo\n",
      "https://www.google.com.br/intl/pt-BR/about/products?tab=wh\n",
      "http://www.google.com.br/history/optout?hl=pt-BR\n",
      "/preferences?hl=pt-BR\n",
      "https://accounts.google.com/ServiceLogin?hl=pt-BR&passive=true&continue=https://www.google.com/&ec=GAZAAQ\n",
      "/advanced_search?hl=pt-BR&authuser=0\n",
      "/intl/pt-BR/ads/\n",
      "/services/\n",
      "/intl/pt-BR/about.html\n",
      "https://www.google.com/setprefdomain?prefdom=BR&prev=https://www.google.com.br/&sig=K_WSEr4w_VwJYi-Ag6S5W7flHEvUY%3D\n",
      "/intl/pt-BR/policies/privacy/\n",
      "/intl/pt-BR/policies/terms/\n"
     ]
    }
   ],
   "source": [
    "soup = BeautifulSoup(response.content)\n",
    "links = soup.find_all('a')\n",
    "\n",
    "for i in links:\n",
    "    print(i.get('href'))\n"
   ]
  },
  {
   "cell_type": "markdown",
   "metadata": {},
   "source": [
    "##### Webscraping Yahoo"
   ]
  },
  {
   "cell_type": "code",
   "execution_count": 9,
   "metadata": {},
   "outputs": [
    {
     "name": "stdout",
     "output_type": "stream",
     "text": [
      "<Response [200]>\n"
     ]
    }
   ],
   "source": [
    "'''\n",
    "Alguns sites restringem o acesso a seus recursos quando as requisições são feitas por bots ou scripts automatizados. \n",
    "Configurar o header User-Agent em sua requisição pode ajudar a contornar essas restrições, simulando uma requisição feita por um navegador comum.\n",
    "'''\n",
    "headers = {\n",
    "    'User-Agent': 'Mozilla/5.0 (Windows NT 10.0; Win64; x64) AppleWebKit/537.36 (KHTML, like Gecko) Chrome/58.0.3029.110 Safari/537.3'}\n",
    "\n",
    "r = requests.get('https://br.financas.yahoo.com/noticias/acoes-mais-negociadas/', headers=headers)\n",
    "print(r)"
   ]
  },
  {
   "cell_type": "code",
   "execution_count": 10,
   "metadata": {},
   "outputs": [
    {
     "name": "stdout",
     "output_type": "stream",
     "text": [
      "<Response [404]>\n"
     ]
    }
   ],
   "source": [
    "r = requests.get('https://br.financas.yahoo.com/noticias/acoes-mais-negociadas/')\n",
    "print(r)"
   ]
  },
  {
   "cell_type": "code",
   "execution_count": 12,
   "metadata": {},
   "outputs": [],
   "source": [
    "def extrair_informacoes_acoes(url):\n",
    "    \"\"\"\n",
    "    Extrai informações das ações mais negociadas do Yahoo Finanças.\n",
    "    \n",
    "    Args:\n",
    "    url (str): URL da página do Yahoo Finanças com as ações mais negociadas.\n",
    "    \n",
    "    Returns:\n",
    "    list: Uma lista de dicionários contendo as informações extraídas.\n",
    "    \"\"\"\n",
    "    # Define headers para simular uma requisição de um navegador web\n",
    "    headers = {\n",
    "        'User-Agent': 'Mozilla/5.0 (X11; Linux x86_64) AppleWebKit/537.36 (KHTML, like Gecko) Chrome/51.0.2704.103 Safari/537.36'\n",
    "    }\n",
    "\n",
    "    # Faz a requisição para o site\n",
    "    response = requests.get(url, headers=headers)\n",
    "    \n",
    "    # Verifica se a requisição foi bem sucedida\n",
    "    if response.status_code == 200:\n",
    "        # Parseia o conteúdo HTML da página\n",
    "        soup = BeautifulSoup(response.content, 'html.parser')\n",
    "        \n",
    "        # Encontra todos os elementos 'tbody' da página, que contém os dados\n",
    "        all_data = soup.find_all('tbody')\n",
    "        stock_data = []\n",
    "        \n",
    "        for stocks in all_data:\n",
    "            # Encontra todos os elementos 'tr', que correspondem às linhas da tabela\n",
    "            rows = stocks.find_all('tr')\n",
    "            for row in rows:\n",
    "                # Encontra todos os elementos 'td', que correspondem às células\n",
    "                cells = row.find_all('td')\n",
    "                if len(cells) > 7:  # Verifica se temos o número esperado de células\n",
    "                    # Extrai os dados de interesse\n",
    "                    data = {\n",
    "                        'stock': cells[0].get_text(),\n",
    "                        'company': cells[1].get_text(),\n",
    "                        'change': cells[3].get_text(),\n",
    "                        'perc_change': cells[4].get_text(),\n",
    "                        'vol_mean_3m': cells[6].get_text(),\n",
    "                        'market_cap': cells[7].get_text()\n",
    "                    }\n",
    "                    stock_data.append(data)\n",
    "        return stock_data\n",
    "    else:\n",
    "        print(f\"Erro {response.status_code}: Não foi possível acessar a página.\")\n",
    "        return None"
   ]
  },
  {
   "cell_type": "code",
   "execution_count": 13,
   "metadata": {},
   "outputs": [],
   "source": [
    "acoes_url = 'https://br.financas.yahoo.com/noticias/acoes-mais-negociadas/'\n",
    "acoes_mais_negociadas = extrair_informacoes_acoes(acoes_url)"
   ]
  },
  {
   "cell_type": "code",
   "execution_count": 14,
   "metadata": {},
   "outputs": [
    {
     "data": {
      "text/plain": [
       "[{'stock': 'MGLU3.SA',\n",
       "  'company': 'Magazine Luiza S.A.',\n",
       "  'change': '+0,0900',\n",
       "  'perc_change': '+4,27%',\n",
       "  'vol_mean_3m': '165,526M',\n",
       "  'market_cap': '15,74B'},\n",
       " {'stock': 'HAPV3.SA',\n",
       "  'company': 'Hapvida Participações e Investimentos S.A.',\n",
       "  'change': '+0,1700',\n",
       "  'perc_change': '+4,75%',\n",
       "  'vol_mean_3m': '71,527M',\n",
       "  'market_cap': '28,107B'},\n",
       " {'stock': 'BBDC4.SA',\n",
       "  'company': 'Banco Bradesco S.A.',\n",
       "  'change': '+0,22',\n",
       "  'perc_change': '+1,59%',\n",
       "  'vol_mean_3m': '47,791M',\n",
       "  'market_cap': '141,676B'},\n",
       " {'stock': 'B3SA3.SA',\n",
       "  'company': 'B3 S.A. - Brasil, Bolsa, Balcão',\n",
       "  'change': '+0,27',\n",
       "  'perc_change': '+2,16%',\n",
       "  'vol_mean_3m': '35,137M',\n",
       "  'market_cap': '71,334B'},\n",
       " {'stock': 'COGN3.SA',\n",
       "  'company': 'Cogna Educação S.A.',\n",
       "  'change': '+0,1700',\n",
       "  'perc_change': '+7,14%',\n",
       "  'vol_mean_3m': '26,984M',\n",
       "  'market_cap': '4,773B'},\n",
       " {'stock': 'BRFS3.SA',\n",
       "  'company': 'BRF S.A.',\n",
       "  'change': '+1,14',\n",
       "  'perc_change': '+8,14%',\n",
       "  'vol_mean_3m': '8,131M',\n",
       "  'market_cap': '25,317B'},\n",
       " {'stock': 'FNAM11.SA',\n",
       "  'company': 'Fundo de Investimento Amazônia - FINAM',\n",
       "  'change': '-0,0100',\n",
       "  'perc_change': '-3,12%',\n",
       "  'vol_mean_3m': 'N/A',\n",
       "  'market_cap': 'N/A'},\n",
       " {'stock': 'ABEV3.SA',\n",
       "  'company': 'Ambev S.A.',\n",
       "  'change': '+0,27',\n",
       "  'perc_change': '+2,07%',\n",
       "  'vol_mean_3m': '20,702M',\n",
       "  'market_cap': '209,625B'},\n",
       " {'stock': 'VALE3.SA',\n",
       "  'company': 'Vale S.A.',\n",
       "  'change': '+1,73',\n",
       "  'perc_change': '+2,63%',\n",
       "  'vol_mean_3m': '24,611M',\n",
       "  'market_cap': '289,099B'},\n",
       " {'stock': 'PETR4.SA',\n",
       "  'company': 'Petróleo Brasileiro S.A. - Petrobras',\n",
       "  'change': '-0,06',\n",
       "  'perc_change': '-0,14%',\n",
       "  'vol_mean_3m': '35,359M',\n",
       "  'market_cap': '561,322B'},\n",
       " {'stock': 'PCAR3.SA',\n",
       "  'company': 'Companhia Brasileira De Distribuicao',\n",
       "  'change': '+0,4400',\n",
       "  'perc_change': '+12,57%',\n",
       "  'vol_mean_3m': '9,926M',\n",
       "  'market_cap': '1,064B'},\n",
       " {'stock': 'OIBR3.SA',\n",
       "  'company': 'Oi S.A.',\n",
       "  'change': '+0,0200',\n",
       "  'perc_change': '+1,92%',\n",
       "  'vol_mean_3m': '13,91M',\n",
       "  'market_cap': '650,371M'},\n",
       " {'stock': 'MRVE3.SA',\n",
       "  'company': 'MRV Engenharia e Participações S.A.',\n",
       "  'change': '+0,48',\n",
       "  'perc_change': '+6,28%',\n",
       "  'vol_mean_3m': '20,409M',\n",
       "  'market_cap': '4,57B'},\n",
       " {'stock': 'CVCB3.SA',\n",
       "  'company': 'CVC Brasil Operadora e Agência de Viagens S.A.',\n",
       "  'change': '+0,1500',\n",
       "  'perc_change': '+4,75%',\n",
       "  'vol_mean_3m': '19,533M',\n",
       "  'market_cap': '1,469B'},\n",
       " {'stock': 'MGLU1.SA',\n",
       "  'company': 'MAGAZ LUIZA DO    1,95',\n",
       "  'change': '+0,0700',\n",
       "  'perc_change': '+58,33%',\n",
       "  'vol_mean_3m': 'N/A',\n",
       "  'market_cap': 'N/A'},\n",
       " {'stock': 'AZUL4.SA',\n",
       "  'company': 'Azul S.A.',\n",
       "  'change': '+0,84',\n",
       "  'perc_change': '+7,16%',\n",
       "  'vol_mean_3m': '13,453M',\n",
       "  'market_cap': '4,369B'},\n",
       " {'stock': 'ITSA4.SA',\n",
       "  'company': 'Itaúsa S.A.',\n",
       "  'change': '+0,19',\n",
       "  'perc_change': '+1,84%',\n",
       "  'vol_mean_3m': '20,871M',\n",
       "  'market_cap': '108,517B'},\n",
       " {'stock': 'SOMA3.SA',\n",
       "  'company': 'Grupo de Moda Soma S.A.',\n",
       "  'change': '+0,25',\n",
       "  'perc_change': '+3,64%',\n",
       "  'vol_mean_3m': '16,87M',\n",
       "  'market_cap': '5,587B'},\n",
       " {'stock': 'RAIL3.SA',\n",
       "  'company': 'Rumo S.A.',\n",
       "  'change': '+0,32',\n",
       "  'perc_change': '+1,41%',\n",
       "  'vol_mean_3m': '11,756M',\n",
       "  'market_cap': '42,631B'},\n",
       " {'stock': 'RAIZ4.SA',\n",
       "  'company': 'Raízen S.A.',\n",
       "  'change': '+0,0400',\n",
       "  'perc_change': '+1,08%',\n",
       "  'vol_mean_3m': '16,277M',\n",
       "  'market_cap': 'N/A'},\n",
       " {'stock': 'AMER3.SA',\n",
       "  'company': 'Americanas S.A.',\n",
       "  'change': '+0,0200',\n",
       "  'perc_change': '+4,00%',\n",
       "  'vol_mean_3m': '21,388M',\n",
       "  'market_cap': '469,311M'},\n",
       " {'stock': 'ITUB4.SA',\n",
       "  'company': 'Itaú Unibanco Holding S.A.',\n",
       "  'change': '+0,42',\n",
       "  'perc_change': '+1,22%',\n",
       "  'vol_mean_3m': '25,156M',\n",
       "  'market_cap': '316,244B'},\n",
       " {'stock': 'CIEL3.SA',\n",
       "  'company': 'Cielo S.A.',\n",
       "  'change': '-0,03',\n",
       "  'perc_change': '-0,55%',\n",
       "  'vol_mean_3m': '32,205M',\n",
       "  'market_cap': '14,567B'},\n",
       " {'stock': 'POMO4.SA',\n",
       "  'company': 'Marcopolo S.A.',\n",
       "  'change': '+0,40',\n",
       "  'perc_change': '+4,87%',\n",
       "  'vol_mean_3m': '7,71M',\n",
       "  'market_cap': '7,558B'},\n",
       " {'stock': 'LREN3.SA',\n",
       "  'company': 'Lojas Renner S.A.',\n",
       "  'change': '+0,87',\n",
       "  'perc_change': '+5,69%',\n",
       "  'vol_mean_3m': '16,187M',\n",
       "  'market_cap': '15,433B'}]"
      ]
     },
     "execution_count": 14,
     "metadata": {},
     "output_type": "execute_result"
    }
   ],
   "source": [
    "acoes_mais_negociadas"
   ]
  },
  {
   "cell_type": "code",
   "execution_count": 15,
   "metadata": {},
   "outputs": [
    {
     "data": {
      "text/html": [
       "<div>\n",
       "<style scoped>\n",
       "    .dataframe tbody tr th:only-of-type {\n",
       "        vertical-align: middle;\n",
       "    }\n",
       "\n",
       "    .dataframe tbody tr th {\n",
       "        vertical-align: top;\n",
       "    }\n",
       "\n",
       "    .dataframe thead th {\n",
       "        text-align: right;\n",
       "    }\n",
       "</style>\n",
       "<table border=\"1\" class=\"dataframe\">\n",
       "  <thead>\n",
       "    <tr style=\"text-align: right;\">\n",
       "      <th></th>\n",
       "      <th>stock</th>\n",
       "      <th>company</th>\n",
       "      <th>change</th>\n",
       "      <th>perc_change</th>\n",
       "      <th>vol_mean_3m</th>\n",
       "      <th>market_cap</th>\n",
       "    </tr>\n",
       "  </thead>\n",
       "  <tbody>\n",
       "    <tr>\n",
       "      <th>0</th>\n",
       "      <td>MGLU3.SA</td>\n",
       "      <td>Magazine Luiza S.A.</td>\n",
       "      <td>+0,0900</td>\n",
       "      <td>+4,27%</td>\n",
       "      <td>165,526M</td>\n",
       "      <td>15,74B</td>\n",
       "    </tr>\n",
       "    <tr>\n",
       "      <th>1</th>\n",
       "      <td>HAPV3.SA</td>\n",
       "      <td>Hapvida Participações e Investimentos S.A.</td>\n",
       "      <td>+0,1700</td>\n",
       "      <td>+4,75%</td>\n",
       "      <td>71,527M</td>\n",
       "      <td>28,107B</td>\n",
       "    </tr>\n",
       "    <tr>\n",
       "      <th>2</th>\n",
       "      <td>BBDC4.SA</td>\n",
       "      <td>Banco Bradesco S.A.</td>\n",
       "      <td>+0,22</td>\n",
       "      <td>+1,59%</td>\n",
       "      <td>47,791M</td>\n",
       "      <td>141,676B</td>\n",
       "    </tr>\n",
       "    <tr>\n",
       "      <th>3</th>\n",
       "      <td>B3SA3.SA</td>\n",
       "      <td>B3 S.A. - Brasil, Bolsa, Balcão</td>\n",
       "      <td>+0,27</td>\n",
       "      <td>+2,16%</td>\n",
       "      <td>35,137M</td>\n",
       "      <td>71,334B</td>\n",
       "    </tr>\n",
       "    <tr>\n",
       "      <th>4</th>\n",
       "      <td>COGN3.SA</td>\n",
       "      <td>Cogna Educação S.A.</td>\n",
       "      <td>+0,1700</td>\n",
       "      <td>+7,14%</td>\n",
       "      <td>26,984M</td>\n",
       "      <td>4,773B</td>\n",
       "    </tr>\n",
       "    <tr>\n",
       "      <th>5</th>\n",
       "      <td>BRFS3.SA</td>\n",
       "      <td>BRF S.A.</td>\n",
       "      <td>+1,14</td>\n",
       "      <td>+8,14%</td>\n",
       "      <td>8,131M</td>\n",
       "      <td>25,317B</td>\n",
       "    </tr>\n",
       "    <tr>\n",
       "      <th>6</th>\n",
       "      <td>FNAM11.SA</td>\n",
       "      <td>Fundo de Investimento Amazônia - FINAM</td>\n",
       "      <td>-0,0100</td>\n",
       "      <td>-3,12%</td>\n",
       "      <td>N/A</td>\n",
       "      <td>N/A</td>\n",
       "    </tr>\n",
       "    <tr>\n",
       "      <th>7</th>\n",
       "      <td>ABEV3.SA</td>\n",
       "      <td>Ambev S.A.</td>\n",
       "      <td>+0,27</td>\n",
       "      <td>+2,07%</td>\n",
       "      <td>20,702M</td>\n",
       "      <td>209,625B</td>\n",
       "    </tr>\n",
       "    <tr>\n",
       "      <th>8</th>\n",
       "      <td>VALE3.SA</td>\n",
       "      <td>Vale S.A.</td>\n",
       "      <td>+1,73</td>\n",
       "      <td>+2,63%</td>\n",
       "      <td>24,611M</td>\n",
       "      <td>289,099B</td>\n",
       "    </tr>\n",
       "    <tr>\n",
       "      <th>9</th>\n",
       "      <td>PETR4.SA</td>\n",
       "      <td>Petróleo Brasileiro S.A. - Petrobras</td>\n",
       "      <td>-0,06</td>\n",
       "      <td>-0,14%</td>\n",
       "      <td>35,359M</td>\n",
       "      <td>561,322B</td>\n",
       "    </tr>\n",
       "    <tr>\n",
       "      <th>10</th>\n",
       "      <td>PCAR3.SA</td>\n",
       "      <td>Companhia Brasileira De Distribuicao</td>\n",
       "      <td>+0,4400</td>\n",
       "      <td>+12,57%</td>\n",
       "      <td>9,926M</td>\n",
       "      <td>1,064B</td>\n",
       "    </tr>\n",
       "    <tr>\n",
       "      <th>11</th>\n",
       "      <td>OIBR3.SA</td>\n",
       "      <td>Oi S.A.</td>\n",
       "      <td>+0,0200</td>\n",
       "      <td>+1,92%</td>\n",
       "      <td>13,91M</td>\n",
       "      <td>650,371M</td>\n",
       "    </tr>\n",
       "    <tr>\n",
       "      <th>12</th>\n",
       "      <td>MRVE3.SA</td>\n",
       "      <td>MRV Engenharia e Participações S.A.</td>\n",
       "      <td>+0,48</td>\n",
       "      <td>+6,28%</td>\n",
       "      <td>20,409M</td>\n",
       "      <td>4,57B</td>\n",
       "    </tr>\n",
       "    <tr>\n",
       "      <th>13</th>\n",
       "      <td>CVCB3.SA</td>\n",
       "      <td>CVC Brasil Operadora e Agência de Viagens S.A.</td>\n",
       "      <td>+0,1500</td>\n",
       "      <td>+4,75%</td>\n",
       "      <td>19,533M</td>\n",
       "      <td>1,469B</td>\n",
       "    </tr>\n",
       "    <tr>\n",
       "      <th>14</th>\n",
       "      <td>MGLU1.SA</td>\n",
       "      <td>MAGAZ LUIZA DO    1,95</td>\n",
       "      <td>+0,0700</td>\n",
       "      <td>+58,33%</td>\n",
       "      <td>N/A</td>\n",
       "      <td>N/A</td>\n",
       "    </tr>\n",
       "    <tr>\n",
       "      <th>15</th>\n",
       "      <td>AZUL4.SA</td>\n",
       "      <td>Azul S.A.</td>\n",
       "      <td>+0,84</td>\n",
       "      <td>+7,16%</td>\n",
       "      <td>13,453M</td>\n",
       "      <td>4,369B</td>\n",
       "    </tr>\n",
       "    <tr>\n",
       "      <th>16</th>\n",
       "      <td>ITSA4.SA</td>\n",
       "      <td>Itaúsa S.A.</td>\n",
       "      <td>+0,19</td>\n",
       "      <td>+1,84%</td>\n",
       "      <td>20,871M</td>\n",
       "      <td>108,517B</td>\n",
       "    </tr>\n",
       "    <tr>\n",
       "      <th>17</th>\n",
       "      <td>SOMA3.SA</td>\n",
       "      <td>Grupo de Moda Soma S.A.</td>\n",
       "      <td>+0,25</td>\n",
       "      <td>+3,64%</td>\n",
       "      <td>16,87M</td>\n",
       "      <td>5,587B</td>\n",
       "    </tr>\n",
       "    <tr>\n",
       "      <th>18</th>\n",
       "      <td>RAIL3.SA</td>\n",
       "      <td>Rumo S.A.</td>\n",
       "      <td>+0,32</td>\n",
       "      <td>+1,41%</td>\n",
       "      <td>11,756M</td>\n",
       "      <td>42,631B</td>\n",
       "    </tr>\n",
       "    <tr>\n",
       "      <th>19</th>\n",
       "      <td>RAIZ4.SA</td>\n",
       "      <td>Raízen S.A.</td>\n",
       "      <td>+0,0400</td>\n",
       "      <td>+1,08%</td>\n",
       "      <td>16,277M</td>\n",
       "      <td>N/A</td>\n",
       "    </tr>\n",
       "    <tr>\n",
       "      <th>20</th>\n",
       "      <td>AMER3.SA</td>\n",
       "      <td>Americanas S.A.</td>\n",
       "      <td>+0,0200</td>\n",
       "      <td>+4,00%</td>\n",
       "      <td>21,388M</td>\n",
       "      <td>469,311M</td>\n",
       "    </tr>\n",
       "    <tr>\n",
       "      <th>21</th>\n",
       "      <td>ITUB4.SA</td>\n",
       "      <td>Itaú Unibanco Holding S.A.</td>\n",
       "      <td>+0,42</td>\n",
       "      <td>+1,22%</td>\n",
       "      <td>25,156M</td>\n",
       "      <td>316,244B</td>\n",
       "    </tr>\n",
       "    <tr>\n",
       "      <th>22</th>\n",
       "      <td>CIEL3.SA</td>\n",
       "      <td>Cielo S.A.</td>\n",
       "      <td>-0,03</td>\n",
       "      <td>-0,55%</td>\n",
       "      <td>32,205M</td>\n",
       "      <td>14,567B</td>\n",
       "    </tr>\n",
       "    <tr>\n",
       "      <th>23</th>\n",
       "      <td>POMO4.SA</td>\n",
       "      <td>Marcopolo S.A.</td>\n",
       "      <td>+0,40</td>\n",
       "      <td>+4,87%</td>\n",
       "      <td>7,71M</td>\n",
       "      <td>7,558B</td>\n",
       "    </tr>\n",
       "    <tr>\n",
       "      <th>24</th>\n",
       "      <td>LREN3.SA</td>\n",
       "      <td>Lojas Renner S.A.</td>\n",
       "      <td>+0,87</td>\n",
       "      <td>+5,69%</td>\n",
       "      <td>16,187M</td>\n",
       "      <td>15,433B</td>\n",
       "    </tr>\n",
       "  </tbody>\n",
       "</table>\n",
       "</div>"
      ],
      "text/plain": [
       "        stock                                         company   change  \\\n",
       "0    MGLU3.SA                             Magazine Luiza S.A.  +0,0900   \n",
       "1    HAPV3.SA      Hapvida Participações e Investimentos S.A.  +0,1700   \n",
       "2    BBDC4.SA                             Banco Bradesco S.A.    +0,22   \n",
       "3    B3SA3.SA                 B3 S.A. - Brasil, Bolsa, Balcão    +0,27   \n",
       "4    COGN3.SA                             Cogna Educação S.A.  +0,1700   \n",
       "5    BRFS3.SA                                        BRF S.A.    +1,14   \n",
       "6   FNAM11.SA          Fundo de Investimento Amazônia - FINAM  -0,0100   \n",
       "7    ABEV3.SA                                      Ambev S.A.    +0,27   \n",
       "8    VALE3.SA                                       Vale S.A.    +1,73   \n",
       "9    PETR4.SA            Petróleo Brasileiro S.A. - Petrobras    -0,06   \n",
       "10   PCAR3.SA            Companhia Brasileira De Distribuicao  +0,4400   \n",
       "11   OIBR3.SA                                         Oi S.A.  +0,0200   \n",
       "12   MRVE3.SA             MRV Engenharia e Participações S.A.    +0,48   \n",
       "13   CVCB3.SA  CVC Brasil Operadora e Agência de Viagens S.A.  +0,1500   \n",
       "14   MGLU1.SA                          MAGAZ LUIZA DO    1,95  +0,0700   \n",
       "15   AZUL4.SA                                       Azul S.A.    +0,84   \n",
       "16   ITSA4.SA                                     Itaúsa S.A.    +0,19   \n",
       "17   SOMA3.SA                         Grupo de Moda Soma S.A.    +0,25   \n",
       "18   RAIL3.SA                                       Rumo S.A.    +0,32   \n",
       "19   RAIZ4.SA                                     Raízen S.A.  +0,0400   \n",
       "20   AMER3.SA                                 Americanas S.A.  +0,0200   \n",
       "21   ITUB4.SA                      Itaú Unibanco Holding S.A.    +0,42   \n",
       "22   CIEL3.SA                                      Cielo S.A.    -0,03   \n",
       "23   POMO4.SA                                  Marcopolo S.A.    +0,40   \n",
       "24   LREN3.SA                               Lojas Renner S.A.    +0,87   \n",
       "\n",
       "   perc_change vol_mean_3m market_cap  \n",
       "0       +4,27%    165,526M     15,74B  \n",
       "1       +4,75%     71,527M    28,107B  \n",
       "2       +1,59%     47,791M   141,676B  \n",
       "3       +2,16%     35,137M    71,334B  \n",
       "4       +7,14%     26,984M     4,773B  \n",
       "5       +8,14%      8,131M    25,317B  \n",
       "6       -3,12%         N/A        N/A  \n",
       "7       +2,07%     20,702M   209,625B  \n",
       "8       +2,63%     24,611M   289,099B  \n",
       "9       -0,14%     35,359M   561,322B  \n",
       "10     +12,57%      9,926M     1,064B  \n",
       "11      +1,92%      13,91M   650,371M  \n",
       "12      +6,28%     20,409M      4,57B  \n",
       "13      +4,75%     19,533M     1,469B  \n",
       "14     +58,33%         N/A        N/A  \n",
       "15      +7,16%     13,453M     4,369B  \n",
       "16      +1,84%     20,871M   108,517B  \n",
       "17      +3,64%      16,87M     5,587B  \n",
       "18      +1,41%     11,756M    42,631B  \n",
       "19      +1,08%     16,277M        N/A  \n",
       "20      +4,00%     21,388M   469,311M  \n",
       "21      +1,22%     25,156M   316,244B  \n",
       "22      -0,55%     32,205M    14,567B  \n",
       "23      +4,87%       7,71M     7,558B  \n",
       "24      +5,69%     16,187M    15,433B  "
      ]
     },
     "execution_count": 15,
     "metadata": {},
     "output_type": "execute_result"
    }
   ],
   "source": [
    "df_acoes = pd.DataFrame(acoes_mais_negociadas)\n",
    "df_acoes"
   ]
  },
  {
   "cell_type": "markdown",
   "metadata": {},
   "source": [
    "### Exercícios em Sala"
   ]
  },
  {
   "cell_type": "markdown",
   "metadata": {},
   "source": [
    "1. Escreva um programa que verifica se uma determinada string é um endereço de e-mail válido (caracteres_alfanuméricos@domínio.com)."
   ]
  },
  {
   "cell_type": "code",
   "execution_count": 16,
   "metadata": {},
   "outputs": [],
   "source": [
    "def verifica_email(email: str)-> bool:\n",
    "    #pattern = r'^\\w+@\\w+\\.\\w+$|^\\w+@\\w+\\.\\w+\\.\\w+$'\n",
    "    pattern = r'^[\\w.-]+@[\\w-]+\\.[\\w.-]+$'\n",
    "    resp = bool(re.match(pattern, email))\n",
    "    return resp"
   ]
  },
  {
   "cell_type": "markdown",
   "metadata": {},
   "source": [
    "2. Escreva um programa que encontre todas as ocorrências de datas no formato \"dd/mm/aaaa\" em uma determinada string."
   ]
  },
  {
   "cell_type": "code",
   "execution_count": 17,
   "metadata": {},
   "outputs": [
    {
     "data": {
      "text/plain": [
       "['25/05/2023', '26/05/2023']"
      ]
     },
     "execution_count": 17,
     "metadata": {},
     "output_type": "execute_result"
    }
   ],
   "source": [
    "texto = \"As datas de hoje e amanhã são 25/05/2023 e 26/05/2023, respectivamente.\"\n",
    "\n",
    "def encontra_data(string):\n",
    "    #pattern = r'\\d{2}/\\d{2}/\\d{4}'\n",
    "    pattern = r'\\d{2}/\\d{2}/\\d{4}'\n",
    "    resp = re.findall(pattern, string)\n",
    "    return resp\n",
    "\n",
    "texto = \"As datas de hoje e amanhã são 25/05/2023 e 26/05/2023, respectivamente.\"\n",
    "encontra_data(texto)"
   ]
  },
  {
   "cell_type": "markdown",
   "metadata": {},
   "source": [
    "3. Escreva um programa que conte o número de imagens em uma página HTML."
   ]
  },
  {
   "cell_type": "code",
   "execution_count": 18,
   "metadata": {},
   "outputs": [],
   "source": [
    "def contar_imagens(html_content):\n",
    "     # Realiza a requisição GET para a URL fornecida\n",
    "    response = requests.get(url)\n",
    "    \n",
    "    # Verifica se a requisição foi bem-sucedida\n",
    "    if response.status_code == 200:\n",
    "        # Analisa o HTML da página usando BeautifulSoup\n",
    "        soup = BeautifulSoup(response.content, 'html.parser')\n",
    "        \n",
    "        # Encontra todos os elementos de imagem na página\n",
    "        imagens = soup.find_all('img')\n",
    "        \n",
    "        # Retorna a quantidade de imagens encontradas\n",
    "        return len(imagens)\n",
    "    else:\n",
    "        # Retorna None se a requisição não foi bem-sucedida\n",
    "        return None"
   ]
  },
  {
   "cell_type": "code",
   "execution_count": 19,
   "metadata": {},
   "outputs": [
    {
     "data": {
      "text/plain": [
       "2"
      ]
     },
     "execution_count": 19,
     "metadata": {},
     "output_type": "execute_result"
    }
   ],
   "source": [
    "contar_imagens(url)"
   ]
  },
  {
   "cell_type": "markdown",
   "metadata": {},
   "source": []
  }
 ],
 "metadata": {
  "kernelspec": {
   "display_name": "Python 3",
   "language": "python",
   "name": "python3"
  },
  "language_info": {
   "codemirror_mode": {
    "name": "ipython",
    "version": 3
   },
   "file_extension": ".py",
   "mimetype": "text/x-python",
   "name": "python",
   "nbconvert_exporter": "python",
   "pygments_lexer": "ipython3",
   "version": "3.10.11"
  }
 },
 "nbformat": 4,
 "nbformat_minor": 2
}
