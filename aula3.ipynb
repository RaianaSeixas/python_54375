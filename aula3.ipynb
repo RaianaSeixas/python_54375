{
 "cells": [
  {
   "cell_type": "code",
   "execution_count": 10,
   "metadata": {},
   "outputs": [],
   "source": [
    "\n",
    "# Crie um código que coleta a média de notas,  e o número de faltas  de um aluno e retorne\n",
    "# se ele passou de ano ou não, considerando um mínimo de 60 de aproveitamento e 75% de frequência (50 aulas totais).\n"
   ]
  },
  {
   "cell_type": "code",
   "execution_count": 11,
   "metadata": {},
   "outputs": [
    {
     "name": "stdout",
     "output_type": "stream",
     "text": [
      "Média anual =  50.0\n",
      "Poncentagem de Frequência = 92.0 %\n",
      "Status = Reprovado\n"
     ]
    }
   ],
   "source": [
    "média = float(input(\"Média do aluno:\"))\n",
    "faltas = int(input(\"Faltas do aluno:\"))\n",
    "aulas_totais = 50\n",
    "\n",
    "frequência_percentual = 1- faltas/aulas_totais\n",
    "\n",
    "print(\"Média anual = \", média)\n",
    "print(f\"Poncentagem de Frequência = {frequência_percentual*100} %\")\n",
    "\n",
    "if média >= 60 and frequência_percentual >= 0.75:\n",
    "    print(\"Status = Aprovado\")\n",
    "else:\n",
    "    print(\"Status = Reprovado\")"
   ]
  },
  {
   "cell_type": "code",
   "execution_count": 12,
   "metadata": {},
   "outputs": [
    {
     "name": "stdout",
     "output_type": "stream",
     "text": [
      "Status = Aprovado\n"
     ]
    }
   ],
   "source": [
    "#Para ver a diferença entre and e or\n",
    "if média >= 60 or frequência_percentual >= 0.75:\n",
    "    print(\"Status = Aprovado\")\n",
    "else:\n",
    "    print(\"Status = Reprovado\")"
   ]
  },
  {
   "cell_type": "code",
   "execution_count": 13,
   "metadata": {},
   "outputs": [],
   "source": [
    "# Inclua a possibilidade de Recuperação caso a nota esteja entre 45 e 59."
   ]
  },
  {
   "cell_type": "code",
   "execution_count": 14,
   "metadata": {},
   "outputs": [
    {
     "name": "stdout",
     "output_type": "stream",
     "text": [
      "Média anual =  50.0\n",
      "Poncentagem de Frequência = 92.0 %\n",
      "Status = Recuperação\n"
     ]
    }
   ],
   "source": [
    "print(\"Média anual = \", média)\n",
    "print(f\"Poncentagem de Frequência = {frequência_percentual*100} %\")\n",
    "\n",
    "if média >= 60 and frequência_percentual >= 0.75:\n",
    "    print(\"Status = Aprovado\")\n",
    "elif média in range(45,60) and frequência_percentual >= 0.75:\n",
    "    print(\"Status = Recuperação\")\n",
    "else:\n",
    "    print(\"Status = Reprovado\")"
   ]
  },
  {
   "cell_type": "code",
   "execution_count": 15,
   "metadata": {},
   "outputs": [
    {
     "name": "stdout",
     "output_type": "stream",
     "text": [
      "1\n"
     ]
    }
   ],
   "source": [
    "x = 5\n",
    "y = 3 \n",
    "if x > 2:\n",
    "    if y < 3:\n",
    "        x = 2\n",
    "    elif x == 6:\n",
    "        x = 3\n",
    "    else:\n",
    "        x = 1\n",
    "else: \n",
    "    x = 4\n",
    "print(x)"
   ]
  },
  {
   "cell_type": "code",
   "execution_count": 16,
   "metadata": {},
   "outputs": [],
   "source": [
    "x=1\n",
    "if not x:\n",
    "    print(\"sim\")"
   ]
  },
  {
   "cell_type": "code",
   "execution_count": 17,
   "metadata": {},
   "outputs": [
    {
     "data": {
      "text/plain": [
       "'\\nwhile soma != 12:\\n    soma += 2\\n    #print(soma)\\n'"
      ]
     },
     "execution_count": 17,
     "metadata": {},
     "output_type": "execute_result"
    }
   ],
   "source": [
    "# Exemplo de loop infinito\n",
    "soma = 1\n",
    "'''\n",
    "while soma != 12:\n",
    "    soma += 2\n",
    "    #print(soma)\n",
    "'''"
   ]
  },
  {
   "cell_type": "code",
   "execution_count": 18,
   "metadata": {},
   "outputs": [],
   "source": [
    "# Crie uma lista dos números inteiros menores que 20 usando o for"
   ]
  },
  {
   "cell_type": "code",
   "execution_count": 19,
   "metadata": {},
   "outputs": [
    {
     "name": "stdout",
     "output_type": "stream",
     "text": [
      "[0, 1, 2, 3, 4, 5, 6, 7, 8, 9, 10, 11, 12, 13, 14, 15, 16, 17, 18, 19]\n"
     ]
    }
   ],
   "source": [
    "lista = []\n",
    "\n",
    "for iten in range(20):\n",
    "    lista.append(iten)\n",
    "print(lista)\n"
   ]
  },
  {
   "cell_type": "code",
   "execution_count": 20,
   "metadata": {},
   "outputs": [
    {
     "name": "stdout",
     "output_type": "stream",
     "text": [
      "6\n",
      "7\n",
      "8\n",
      "9\n",
      "10\n",
      "11\n",
      "12\n",
      "13\n",
      "14\n",
      "15\n",
      "16\n",
      "17\n",
      "18\n",
      "19\n"
     ]
    }
   ],
   "source": [
    "for i in lista:\n",
    "    if i >5:\n",
    "        print(i)"
   ]
  },
  {
   "cell_type": "code",
   "execution_count": 21,
   "metadata": {},
   "outputs": [
    {
     "data": {
      "text/plain": [
       "[0, 1, 2, 3, 4, 5, 6, 7, 8, 9]"
      ]
     },
     "execution_count": 21,
     "metadata": {},
     "output_type": "execute_result"
    }
   ],
   "source": [
    "lista2 = [i for i in range(10)]\n",
    "lista2"
   ]
  },
  {
   "cell_type": "code",
   "execution_count": 22,
   "metadata": {},
   "outputs": [
    {
     "name": "stdout",
     "output_type": "stream",
     "text": [
      "0\n",
      "2\n",
      "4\n",
      "6\n",
      "8\n",
      "10\n",
      "Todos os números pares foram gerados.\n"
     ]
    }
   ],
   "source": [
    "def even_numbers(max):\n",
    "    \"\"\" Gera números pares até um limite especificado. \"\"\"\n",
    "    n = 0\n",
    "    while n <= max:\n",
    "        yield n\n",
    "        n += 2\n",
    "\n",
    "# Armazenando o gerador em uma variável\n",
    "even_gen = even_numbers(10)\n",
    "\n",
    "# Imprimindo valores usando next()\n",
    "try:\n",
    "    while True:\n",
    "        print(next(even_gen))\n",
    "except StopIteration:\n",
    "    print(\"Todos os números pares foram gerados.\")"
   ]
  },
  {
   "cell_type": "code",
   "execution_count": 23,
   "metadata": {},
   "outputs": [
    {
     "name": "stdout",
     "output_type": "stream",
     "text": [
      "Mês: Janeiro - quantidade: 232\n",
      "Mês: Fevereiro - quantidade: 321\n"
     ]
    }
   ],
   "source": [
    "table = {'Janeiro': 232, 'Fevereiro': 321}\n",
    "for mes,quantidade in table.items():\n",
    "    print(f\"Mês: {mes} - quantidade: {quantidade}\")"
   ]
  }
 ],
 "metadata": {
  "kernelspec": {
   "display_name": "Python 3",
   "language": "python",
   "name": "python3"
  },
  "language_info": {
   "codemirror_mode": {
    "name": "ipython",
    "version": 3
   },
   "file_extension": ".py",
   "mimetype": "text/x-python",
   "name": "python",
   "nbconvert_exporter": "python",
   "pygments_lexer": "ipython3",
   "version": "3.10.11"
  }
 },
 "nbformat": 4,
 "nbformat_minor": 2
}
