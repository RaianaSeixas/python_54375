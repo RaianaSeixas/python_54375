{
  "cells": [
    {
      "cell_type": "markdown",
      "metadata": {
        "id": "view-in-github",
        "colab_type": "text"
      },
      "source": [
        "<a href=\"https://colab.research.google.com/github/RaianaSeixas/python_54375/blob/main/aula18.ipynb\" target=\"_parent\"><img src=\"https://colab.research.google.com/assets/colab-badge.svg\" alt=\"Open In Colab\"/></a>"
      ]
    },
    {
      "cell_type": "markdown",
      "metadata": {
        "id": "dVyYtPUl8_e6"
      },
      "source": [
        "#  PySpark I\n"
      ]
    },
    {
      "cell_type": "code",
      "execution_count": 1,
      "metadata": {
        "id": "A5BCAlCW8_e7",
        "colab": {
          "base_uri": "https://localhost:8080/"
        },
        "outputId": "6b9271fe-05a9-4a96-f447-f18b550c39b2"
      },
      "outputs": [
        {
          "output_type": "stream",
          "name": "stdout",
          "text": [
            "Collecting pyspark\n",
            "  Downloading pyspark-3.5.1.tar.gz (317.0 MB)\n",
            "\u001b[2K     \u001b[90m━━━━━━━━━━━━━━━━━━━━━━━━━━━━━━━━━━━━━━━━\u001b[0m \u001b[32m317.0/317.0 MB\u001b[0m \u001b[31m1.3 MB/s\u001b[0m eta \u001b[36m0:00:00\u001b[0m\n",
            "\u001b[?25h  Preparing metadata (setup.py) ... \u001b[?25l\u001b[?25hdone\n",
            "Requirement already satisfied: py4j==0.10.9.7 in /usr/local/lib/python3.10/dist-packages (from pyspark) (0.10.9.7)\n",
            "Building wheels for collected packages: pyspark\n",
            "  Building wheel for pyspark (setup.py) ... \u001b[?25l\u001b[?25hdone\n",
            "  Created wheel for pyspark: filename=pyspark-3.5.1-py2.py3-none-any.whl size=317488493 sha256=a70a19aa0a19934362da73da74f913181bf60502f9ab094cbefc79469453ba67\n",
            "  Stored in directory: /root/.cache/pip/wheels/80/1d/60/2c256ed38dddce2fdd93be545214a63e02fbd8d74fb0b7f3a6\n",
            "Successfully built pyspark\n",
            "Installing collected packages: pyspark\n",
            "Successfully installed pyspark-3.5.1\n"
          ]
        }
      ],
      "source": [
        "!pip install pyspark"
      ]
    },
    {
      "cell_type": "markdown",
      "metadata": {
        "id": "E66Yf0AI8_e8"
      },
      "source": [
        "## Sessão"
      ]
    },
    {
      "cell_type": "code",
      "execution_count": 2,
      "metadata": {
        "id": "0gFR0Hl68_e8"
      },
      "outputs": [],
      "source": [
        "from pyspark.sql import SparkSession\n",
        "import pyspark as ps\n",
        "spark = (SparkSession\n",
        "            .builder\n",
        "            .appName(\"Python Spark SQL basic example\")\n",
        "            .config(\"spark.some.config.option\", \"some-value\")\n",
        "            .getOrCreate())"
      ]
    },
    {
      "cell_type": "code",
      "execution_count": 3,
      "metadata": {
        "id": "6R8e_rQs8_e8",
        "outputId": "ca574c5b-0c86-41d2-80a3-38f04a04f3e1",
        "colab": {
          "base_uri": "https://localhost:8080/"
        }
      },
      "outputs": [
        {
          "output_type": "execute_result",
          "data": {
            "text/plain": [
              "<pyspark.conf.SparkConf at 0x78549c23e020>"
            ]
          },
          "metadata": {},
          "execution_count": 3
        }
      ],
      "source": [
        "conf = ps.SparkConf().setMaster(\"yarn-client\").setAppName(\"sparK-mer\")\n",
        "conf.set(\"spark.executor.heartbeatInterval\",\"3600s\")"
      ]
    },
    {
      "cell_type": "code",
      "execution_count": 4,
      "metadata": {
        "id": "ohQK9HmD8_e9",
        "outputId": "aa4422e7-f623-4853-8240-04165190e995",
        "colab": {
          "base_uri": "https://localhost:8080/",
          "height": 36
        }
      },
      "outputs": [
        {
          "output_type": "execute_result",
          "data": {
            "text/plain": [
              "'3.5.1'"
            ],
            "application/vnd.google.colaboratory.intrinsic+json": {
              "type": "string"
            }
          },
          "metadata": {},
          "execution_count": 4
        }
      ],
      "source": [
        "spark.version"
      ]
    },
    {
      "cell_type": "markdown",
      "metadata": {
        "id": "T-k1ZPKn8_e9"
      },
      "source": [
        "## Read csv"
      ]
    },
    {
      "cell_type": "code",
      "source": [
        "!git clone https://github.com/RaianaSeixas/python_54375.git"
      ],
      "metadata": {
        "colab": {
          "base_uri": "https://localhost:8080/"
        },
        "id": "WSppqViEGYt9",
        "outputId": "64dac84e-ee82-44fa-8958-3ed2e3558139"
      },
      "execution_count": 5,
      "outputs": [
        {
          "output_type": "stream",
          "name": "stdout",
          "text": [
            "Cloning into 'python_54375'...\n",
            "remote: Enumerating objects: 53, done.\u001b[K\n",
            "remote: Counting objects: 100% (53/53), done.\u001b[K\n",
            "remote: Compressing objects: 100% (39/39), done.\u001b[K\n",
            "remote: Total 53 (delta 14), reused 36 (delta 9), pack-reused 0\u001b[K\n",
            "Receiving objects: 100% (53/53), 1.68 MiB | 8.96 MiB/s, done.\n",
            "Resolving deltas: 100% (14/14), done.\n"
          ]
        }
      ]
    },
    {
      "cell_type": "code",
      "execution_count": 6,
      "metadata": {
        "id": "aN9qMW6l8_e9",
        "outputId": "1c3de4ea-cfd7-4048-c156-96cdb93288e0",
        "colab": {
          "base_uri": "https://localhost:8080/"
        }
      },
      "outputs": [
        {
          "output_type": "execute_result",
          "data": {
            "text/plain": [
              "DataFrame[id: string, diagnosis: string, radius_mean: string, texture_mean: string, perimeter_mean: string, area_mean: string, smoothness_mean: string, compactness_mean: string, concavity_mean: string, concave points_mean: string, symmetry_mean: string, fractal_dimension_mean: string, radius_se: string, texture_se: string, perimeter_se: string, area_se: string, smoothness_se: string, compactness_se: string, concavity_se: string, concave points_se: string, symmetry_se: string, fractal_dimension_se: string, radius_worst: string, texture_worst: string, perimeter_worst: string, area_worst: string, smoothness_worst: string, compactness_worst: string, concavity_worst: string, concave points_worst: string, symmetry_worst: string, fractal_dimension_worst: string, _c32: string]"
            ]
          },
          "metadata": {},
          "execution_count": 6
        }
      ],
      "source": [
        "df_spark = (spark.read.format(\"csv\")\n",
        "      .option(\"header\",\"true\")\n",
        "      .load(\"/content/python_54375/data/Cancer_Data.csv\")\n",
        "      )\n",
        "\n",
        "df_spark"
      ]
    },
    {
      "cell_type": "code",
      "execution_count": 7,
      "metadata": {
        "id": "0AfPhW1k8_e9",
        "outputId": "3680a49e-2118-4d1d-9572-533d0d056886",
        "colab": {
          "base_uri": "https://localhost:8080/"
        }
      },
      "outputs": [
        {
          "output_type": "stream",
          "name": "stdout",
          "text": [
            "+--------+---------+-----------+------------+--------------+---------+---------------+----------------+--------------+-------------------+-------------+----------------------+---------+----------+------------+-------+-------------+--------------+------------+-----------------+-----------+--------------------+------------+-------------+---------------+----------+----------------+-----------------+---------------+--------------------+--------------+-----------------------+----+\n",
            "|      id|diagnosis|radius_mean|texture_mean|perimeter_mean|area_mean|smoothness_mean|compactness_mean|concavity_mean|concave points_mean|symmetry_mean|fractal_dimension_mean|radius_se|texture_se|perimeter_se|area_se|smoothness_se|compactness_se|concavity_se|concave points_se|symmetry_se|fractal_dimension_se|radius_worst|texture_worst|perimeter_worst|area_worst|smoothness_worst|compactness_worst|concavity_worst|concave points_worst|symmetry_worst|fractal_dimension_worst|_c32|\n",
            "+--------+---------+-----------+------------+--------------+---------+---------------+----------------+--------------+-------------------+-------------+----------------------+---------+----------+------------+-------+-------------+--------------+------------+-----------------+-----------+--------------------+------------+-------------+---------------+----------+----------------+-----------------+---------------+--------------------+--------------+-----------------------+----+\n",
            "|  842302|        M|      17.99|       10.38|         122.8|     1001|         0.1184|          0.2776|        0.3001|             0.1471|       0.2419|               0.07871|    1.095|    0.9053|       8.589|  153.4|     0.006399|       0.04904|     0.05373|          0.01587|    0.03003|            0.006193|       25.38|        17.33|          184.6|      2019|          0.1622|           0.6656|         0.7119|              0.2654|        0.4601|                 0.1189|NULL|\n",
            "|  842517|        M|      20.57|       17.77|         132.9|     1326|        0.08474|         0.07864|        0.0869|            0.07017|       0.1812|               0.05667|   0.5435|    0.7339|       3.398|  74.08|     0.005225|       0.01308|      0.0186|           0.0134|    0.01389|            0.003532|       24.99|        23.41|          158.8|      1956|          0.1238|           0.1866|         0.2416|               0.186|         0.275|                0.08902|NULL|\n",
            "|84300903|        M|      19.69|       21.25|           130|     1203|         0.1096|          0.1599|        0.1974|             0.1279|       0.2069|               0.05999|   0.7456|    0.7869|       4.585|  94.03|      0.00615|       0.04006|     0.03832|          0.02058|     0.0225|            0.004571|       23.57|        25.53|          152.5|      1709|          0.1444|           0.4245|         0.4504|               0.243|        0.3613|                0.08758|NULL|\n",
            "|84348301|        M|      11.42|       20.38|         77.58|    386.1|         0.1425|          0.2839|        0.2414|             0.1052|       0.2597|               0.09744|   0.4956|     1.156|       3.445|  27.23|      0.00911|       0.07458|     0.05661|          0.01867|    0.05963|            0.009208|       14.91|         26.5|          98.87|     567.7|          0.2098|           0.8663|         0.6869|              0.2575|        0.6638|                  0.173|NULL|\n",
            "|84358402|        M|      20.29|       14.34|         135.1|     1297|         0.1003|          0.1328|         0.198|             0.1043|       0.1809|               0.05883|   0.7572|    0.7813|       5.438|  94.44|      0.01149|       0.02461|     0.05688|          0.01885|    0.01756|            0.005115|       22.54|        16.67|          152.2|      1575|          0.1374|            0.205|            0.4|              0.1625|        0.2364|                0.07678|NULL|\n",
            "+--------+---------+-----------+------------+--------------+---------+---------------+----------------+--------------+-------------------+-------------+----------------------+---------+----------+------------+-------+-------------+--------------+------------+-----------------+-----------+--------------------+------------+-------------+---------------+----------+----------------+-----------------+---------------+--------------------+--------------+-----------------------+----+\n",
            "only showing top 5 rows\n",
            "\n"
          ]
        }
      ],
      "source": [
        "df_spark.show(5)"
      ]
    },
    {
      "cell_type": "code",
      "source": [
        "type(df_spark)"
      ],
      "metadata": {
        "colab": {
          "base_uri": "https://localhost:8080/",
          "height": 186
        },
        "id": "JpwAer3HIVme",
        "outputId": "5ede2a8b-9a20-48b0-9a14-d5adfc865182"
      },
      "execution_count": 8,
      "outputs": [
        {
          "output_type": "execute_result",
          "data": {
            "text/plain": [
              "pyspark.sql.dataframe.DataFrame"
            ],
            "text/html": [
              "<div style=\"max-width:800px; border: 1px solid var(--colab-border-color);\"><style>\n",
              "      pre.function-repr-contents {\n",
              "        overflow-x: auto;\n",
              "        padding: 8px 12px;\n",
              "        max-height: 500px;\n",
              "      }\n",
              "\n",
              "      pre.function-repr-contents.function-repr-contents-collapsed {\n",
              "        cursor: pointer;\n",
              "        max-height: 100px;\n",
              "      }\n",
              "    </style>\n",
              "    <pre style=\"white-space: initial; background:\n",
              "         var(--colab-secondary-surface-color); padding: 8px 12px;\n",
              "         border-bottom: 1px solid var(--colab-border-color);\"><b>pyspark.sql.dataframe.DataFrame</b><br/>def __init__(jdf: JavaObject, sql_ctx: Union[&#x27;SQLContext&#x27;, &#x27;SparkSession&#x27;])</pre><pre class=\"function-repr-contents function-repr-contents-collapsed\" style=\"\"><a class=\"filepath\" style=\"display:none\" href=\"#\">/usr/local/lib/python3.10/dist-packages/pyspark/sql/dataframe.py</a>A distributed collection of data grouped into named columns.\n",
              "\n",
              ".. versionadded:: 1.3.0\n",
              "\n",
              ".. versionchanged:: 3.4.0\n",
              "    Supports Spark Connect.\n",
              "\n",
              "Examples\n",
              "--------\n",
              "A :class:`DataFrame` is equivalent to a relational table in Spark SQL,\n",
              "and can be created using various functions in :class:`SparkSession`:\n",
              "\n",
              "&gt;&gt;&gt; people = spark.createDataFrame([\n",
              "...     {&quot;deptId&quot;: 1, &quot;age&quot;: 40, &quot;name&quot;: &quot;Hyukjin Kwon&quot;, &quot;gender&quot;: &quot;M&quot;, &quot;salary&quot;: 50},\n",
              "...     {&quot;deptId&quot;: 1, &quot;age&quot;: 50, &quot;name&quot;: &quot;Takuya Ueshin&quot;, &quot;gender&quot;: &quot;M&quot;, &quot;salary&quot;: 100},\n",
              "...     {&quot;deptId&quot;: 2, &quot;age&quot;: 60, &quot;name&quot;: &quot;Xinrong Meng&quot;, &quot;gender&quot;: &quot;F&quot;, &quot;salary&quot;: 150},\n",
              "...     {&quot;deptId&quot;: 3, &quot;age&quot;: 20, &quot;name&quot;: &quot;Haejoon Lee&quot;, &quot;gender&quot;: &quot;M&quot;, &quot;salary&quot;: 200}\n",
              "... ])\n",
              "\n",
              "Once created, it can be manipulated using the various domain-specific-language\n",
              "(DSL) functions defined in: :class:`DataFrame`, :class:`Column`.\n",
              "\n",
              "To select a column from the :class:`DataFrame`, use the apply method:\n",
              "\n",
              "&gt;&gt;&gt; age_col = people.age\n",
              "\n",
              "A more concrete example:\n",
              "\n",
              "&gt;&gt;&gt; # To create DataFrame using SparkSession\n",
              "... department = spark.createDataFrame([\n",
              "...     {&quot;id&quot;: 1, &quot;name&quot;: &quot;PySpark&quot;},\n",
              "...     {&quot;id&quot;: 2, &quot;name&quot;: &quot;ML&quot;},\n",
              "...     {&quot;id&quot;: 3, &quot;name&quot;: &quot;Spark SQL&quot;}\n",
              "... ])\n",
              "\n",
              "&gt;&gt;&gt; people.filter(people.age &gt; 30).join(\n",
              "...     department, people.deptId == department.id).groupBy(\n",
              "...     department.name, &quot;gender&quot;).agg({&quot;salary&quot;: &quot;avg&quot;, &quot;age&quot;: &quot;max&quot;}).show()\n",
              "+-------+------+-----------+--------+\n",
              "|   name|gender|avg(salary)|max(age)|\n",
              "+-------+------+-----------+--------+\n",
              "|     ML|     F|      150.0|      60|\n",
              "|PySpark|     M|       75.0|      50|\n",
              "+-------+------+-----------+--------+\n",
              "\n",
              "Notes\n",
              "-----\n",
              "A DataFrame should only be created as described above. It should not be directly\n",
              "created via using the constructor.</pre>\n",
              "      <script>\n",
              "      if (google.colab.kernel.accessAllowed && google.colab.files && google.colab.files.view) {\n",
              "        for (const element of document.querySelectorAll('.filepath')) {\n",
              "          element.style.display = 'block'\n",
              "          element.onclick = (event) => {\n",
              "            event.preventDefault();\n",
              "            event.stopPropagation();\n",
              "            google.colab.files.view(element.textContent, 80);\n",
              "          };\n",
              "        }\n",
              "      }\n",
              "      for (const element of document.querySelectorAll('.function-repr-contents')) {\n",
              "        element.onclick = (event) => {\n",
              "          event.preventDefault();\n",
              "          event.stopPropagation();\n",
              "          element.classList.toggle('function-repr-contents-collapsed');\n",
              "        };\n",
              "      }\n",
              "      </script>\n",
              "      </div>"
            ]
          },
          "metadata": {},
          "execution_count": 8
        }
      ]
    },
    {
      "cell_type": "code",
      "source": [
        "df_spark.printSchema()"
      ],
      "metadata": {
        "colab": {
          "base_uri": "https://localhost:8080/"
        },
        "id": "yY8VZVaIJBJZ",
        "outputId": "862018bd-04e8-4f4c-ee26-0e4fd6b458d5"
      },
      "execution_count": 9,
      "outputs": [
        {
          "output_type": "stream",
          "name": "stdout",
          "text": [
            "root\n",
            " |-- id: string (nullable = true)\n",
            " |-- diagnosis: string (nullable = true)\n",
            " |-- radius_mean: string (nullable = true)\n",
            " |-- texture_mean: string (nullable = true)\n",
            " |-- perimeter_mean: string (nullable = true)\n",
            " |-- area_mean: string (nullable = true)\n",
            " |-- smoothness_mean: string (nullable = true)\n",
            " |-- compactness_mean: string (nullable = true)\n",
            " |-- concavity_mean: string (nullable = true)\n",
            " |-- concave points_mean: string (nullable = true)\n",
            " |-- symmetry_mean: string (nullable = true)\n",
            " |-- fractal_dimension_mean: string (nullable = true)\n",
            " |-- radius_se: string (nullable = true)\n",
            " |-- texture_se: string (nullable = true)\n",
            " |-- perimeter_se: string (nullable = true)\n",
            " |-- area_se: string (nullable = true)\n",
            " |-- smoothness_se: string (nullable = true)\n",
            " |-- compactness_se: string (nullable = true)\n",
            " |-- concavity_se: string (nullable = true)\n",
            " |-- concave points_se: string (nullable = true)\n",
            " |-- symmetry_se: string (nullable = true)\n",
            " |-- fractal_dimension_se: string (nullable = true)\n",
            " |-- radius_worst: string (nullable = true)\n",
            " |-- texture_worst: string (nullable = true)\n",
            " |-- perimeter_worst: string (nullable = true)\n",
            " |-- area_worst: string (nullable = true)\n",
            " |-- smoothness_worst: string (nullable = true)\n",
            " |-- compactness_worst: string (nullable = true)\n",
            " |-- concavity_worst: string (nullable = true)\n",
            " |-- concave points_worst: string (nullable = true)\n",
            " |-- symmetry_worst: string (nullable = true)\n",
            " |-- fractal_dimension_worst: string (nullable = true)\n",
            " |-- _c32: string (nullable = true)\n",
            "\n"
          ]
        }
      ]
    },
    {
      "cell_type": "code",
      "source": [
        "df_spark.drop('_c32')"
      ],
      "metadata": {
        "colab": {
          "base_uri": "https://localhost:8080/"
        },
        "id": "q0RMnVGZMYpw",
        "outputId": "c6940dcb-323f-40c0-9b76-eba7fc46c2e5"
      },
      "execution_count": 10,
      "outputs": [
        {
          "output_type": "execute_result",
          "data": {
            "text/plain": [
              "DataFrame[id: string, diagnosis: string, radius_mean: string, texture_mean: string, perimeter_mean: string, area_mean: string, smoothness_mean: string, compactness_mean: string, concavity_mean: string, concave points_mean: string, symmetry_mean: string, fractal_dimension_mean: string, radius_se: string, texture_se: string, perimeter_se: string, area_se: string, smoothness_se: string, compactness_se: string, concavity_se: string, concave points_se: string, symmetry_se: string, fractal_dimension_se: string, radius_worst: string, texture_worst: string, perimeter_worst: string, area_worst: string, smoothness_worst: string, compactness_worst: string, concavity_worst: string, concave points_worst: string, symmetry_worst: string, fractal_dimension_worst: string]"
            ]
          },
          "metadata": {},
          "execution_count": 10
        }
      ]
    },
    {
      "cell_type": "markdown",
      "metadata": {
        "id": "9I-uuFB98_e9"
      },
      "source": [
        "## Pandas"
      ]
    },
    {
      "cell_type": "code",
      "execution_count": 11,
      "metadata": {
        "id": "wQvwgUyI8_e9",
        "outputId": "8f9ce950-ed5a-4039-bda0-0d52f16aeff5",
        "colab": {
          "base_uri": "https://localhost:8080/",
          "height": 461
        }
      },
      "outputs": [
        {
          "output_type": "execute_result",
          "data": {
            "text/plain": [
              "           id diagnosis radius_mean texture_mean perimeter_mean area_mean  \\\n",
              "0      842302         M       17.99        10.38          122.8      1001   \n",
              "1      842517         M       20.57        17.77          132.9      1326   \n",
              "2    84300903         M       19.69        21.25            130      1203   \n",
              "3    84348301         M       11.42        20.38          77.58     386.1   \n",
              "4    84358402         M       20.29        14.34          135.1      1297   \n",
              "..        ...       ...         ...          ...            ...       ...   \n",
              "564    926424         M       21.56        22.39            142      1479   \n",
              "565    926682         M       20.13        28.25          131.2      1261   \n",
              "566    926954         M        16.6        28.08          108.3     858.1   \n",
              "567    927241         M        20.6        29.33          140.1      1265   \n",
              "568     92751         B        7.76        24.54          47.92       181   \n",
              "\n",
              "    smoothness_mean compactness_mean concavity_mean concave points_mean  ...  \\\n",
              "0            0.1184           0.2776         0.3001              0.1471  ...   \n",
              "1           0.08474          0.07864         0.0869             0.07017  ...   \n",
              "2            0.1096           0.1599         0.1974              0.1279  ...   \n",
              "3            0.1425           0.2839         0.2414              0.1052  ...   \n",
              "4            0.1003           0.1328          0.198              0.1043  ...   \n",
              "..              ...              ...            ...                 ...  ...   \n",
              "564           0.111           0.1159         0.2439              0.1389  ...   \n",
              "565          0.0978           0.1034          0.144             0.09791  ...   \n",
              "566         0.08455           0.1023        0.09251             0.05302  ...   \n",
              "567          0.1178            0.277         0.3514               0.152  ...   \n",
              "568         0.05263          0.04362              0                   0  ...   \n",
              "\n",
              "    radius_worst texture_worst perimeter_worst area_worst smoothness_worst  \\\n",
              "0          25.38         17.33           184.6       2019           0.1622   \n",
              "1          24.99         23.41           158.8       1956           0.1238   \n",
              "2          23.57         25.53           152.5       1709           0.1444   \n",
              "3          14.91          26.5           98.87      567.7           0.2098   \n",
              "4          22.54         16.67           152.2       1575           0.1374   \n",
              "..           ...           ...             ...        ...              ...   \n",
              "564        25.45          26.4           166.1       2027            0.141   \n",
              "565        23.69         38.25             155       1731           0.1166   \n",
              "566        18.98         34.12           126.7       1124           0.1139   \n",
              "567        25.74         39.42           184.6       1821            0.165   \n",
              "568        9.456         30.37           59.16      268.6          0.08996   \n",
              "\n",
              "    compactness_worst concavity_worst concave points_worst symmetry_worst  \\\n",
              "0              0.6656          0.7119               0.2654         0.4601   \n",
              "1              0.1866          0.2416                0.186          0.275   \n",
              "2              0.4245          0.4504                0.243         0.3613   \n",
              "3              0.8663          0.6869               0.2575         0.6638   \n",
              "4               0.205             0.4               0.1625         0.2364   \n",
              "..                ...             ...                  ...            ...   \n",
              "564            0.2113          0.4107               0.2216          0.206   \n",
              "565            0.1922          0.3215               0.1628         0.2572   \n",
              "566            0.3094          0.3403               0.1418         0.2218   \n",
              "567            0.8681          0.9387                0.265         0.4087   \n",
              "568           0.06444               0                    0         0.2871   \n",
              "\n",
              "    fractal_dimension_worst  \n",
              "0                    0.1189  \n",
              "1                   0.08902  \n",
              "2                   0.08758  \n",
              "3                     0.173  \n",
              "4                   0.07678  \n",
              "..                      ...  \n",
              "564                 0.07115  \n",
              "565                 0.06637  \n",
              "566                  0.0782  \n",
              "567                   0.124  \n",
              "568                 0.07039  \n",
              "\n",
              "[569 rows x 32 columns]"
            ],
            "text/html": [
              "\n",
              "  <div id=\"df-9d4e4131-5909-4026-b9e7-6ccf1943d8da\" class=\"colab-df-container\">\n",
              "    <div>\n",
              "<style scoped>\n",
              "    .dataframe tbody tr th:only-of-type {\n",
              "        vertical-align: middle;\n",
              "    }\n",
              "\n",
              "    .dataframe tbody tr th {\n",
              "        vertical-align: top;\n",
              "    }\n",
              "\n",
              "    .dataframe thead th {\n",
              "        text-align: right;\n",
              "    }\n",
              "</style>\n",
              "<table border=\"1\" class=\"dataframe\">\n",
              "  <thead>\n",
              "    <tr style=\"text-align: right;\">\n",
              "      <th></th>\n",
              "      <th>id</th>\n",
              "      <th>diagnosis</th>\n",
              "      <th>radius_mean</th>\n",
              "      <th>texture_mean</th>\n",
              "      <th>perimeter_mean</th>\n",
              "      <th>area_mean</th>\n",
              "      <th>smoothness_mean</th>\n",
              "      <th>compactness_mean</th>\n",
              "      <th>concavity_mean</th>\n",
              "      <th>concave points_mean</th>\n",
              "      <th>...</th>\n",
              "      <th>radius_worst</th>\n",
              "      <th>texture_worst</th>\n",
              "      <th>perimeter_worst</th>\n",
              "      <th>area_worst</th>\n",
              "      <th>smoothness_worst</th>\n",
              "      <th>compactness_worst</th>\n",
              "      <th>concavity_worst</th>\n",
              "      <th>concave points_worst</th>\n",
              "      <th>symmetry_worst</th>\n",
              "      <th>fractal_dimension_worst</th>\n",
              "    </tr>\n",
              "  </thead>\n",
              "  <tbody>\n",
              "    <tr>\n",
              "      <th>0</th>\n",
              "      <td>842302</td>\n",
              "      <td>M</td>\n",
              "      <td>17.99</td>\n",
              "      <td>10.38</td>\n",
              "      <td>122.8</td>\n",
              "      <td>1001</td>\n",
              "      <td>0.1184</td>\n",
              "      <td>0.2776</td>\n",
              "      <td>0.3001</td>\n",
              "      <td>0.1471</td>\n",
              "      <td>...</td>\n",
              "      <td>25.38</td>\n",
              "      <td>17.33</td>\n",
              "      <td>184.6</td>\n",
              "      <td>2019</td>\n",
              "      <td>0.1622</td>\n",
              "      <td>0.6656</td>\n",
              "      <td>0.7119</td>\n",
              "      <td>0.2654</td>\n",
              "      <td>0.4601</td>\n",
              "      <td>0.1189</td>\n",
              "    </tr>\n",
              "    <tr>\n",
              "      <th>1</th>\n",
              "      <td>842517</td>\n",
              "      <td>M</td>\n",
              "      <td>20.57</td>\n",
              "      <td>17.77</td>\n",
              "      <td>132.9</td>\n",
              "      <td>1326</td>\n",
              "      <td>0.08474</td>\n",
              "      <td>0.07864</td>\n",
              "      <td>0.0869</td>\n",
              "      <td>0.07017</td>\n",
              "      <td>...</td>\n",
              "      <td>24.99</td>\n",
              "      <td>23.41</td>\n",
              "      <td>158.8</td>\n",
              "      <td>1956</td>\n",
              "      <td>0.1238</td>\n",
              "      <td>0.1866</td>\n",
              "      <td>0.2416</td>\n",
              "      <td>0.186</td>\n",
              "      <td>0.275</td>\n",
              "      <td>0.08902</td>\n",
              "    </tr>\n",
              "    <tr>\n",
              "      <th>2</th>\n",
              "      <td>84300903</td>\n",
              "      <td>M</td>\n",
              "      <td>19.69</td>\n",
              "      <td>21.25</td>\n",
              "      <td>130</td>\n",
              "      <td>1203</td>\n",
              "      <td>0.1096</td>\n",
              "      <td>0.1599</td>\n",
              "      <td>0.1974</td>\n",
              "      <td>0.1279</td>\n",
              "      <td>...</td>\n",
              "      <td>23.57</td>\n",
              "      <td>25.53</td>\n",
              "      <td>152.5</td>\n",
              "      <td>1709</td>\n",
              "      <td>0.1444</td>\n",
              "      <td>0.4245</td>\n",
              "      <td>0.4504</td>\n",
              "      <td>0.243</td>\n",
              "      <td>0.3613</td>\n",
              "      <td>0.08758</td>\n",
              "    </tr>\n",
              "    <tr>\n",
              "      <th>3</th>\n",
              "      <td>84348301</td>\n",
              "      <td>M</td>\n",
              "      <td>11.42</td>\n",
              "      <td>20.38</td>\n",
              "      <td>77.58</td>\n",
              "      <td>386.1</td>\n",
              "      <td>0.1425</td>\n",
              "      <td>0.2839</td>\n",
              "      <td>0.2414</td>\n",
              "      <td>0.1052</td>\n",
              "      <td>...</td>\n",
              "      <td>14.91</td>\n",
              "      <td>26.5</td>\n",
              "      <td>98.87</td>\n",
              "      <td>567.7</td>\n",
              "      <td>0.2098</td>\n",
              "      <td>0.8663</td>\n",
              "      <td>0.6869</td>\n",
              "      <td>0.2575</td>\n",
              "      <td>0.6638</td>\n",
              "      <td>0.173</td>\n",
              "    </tr>\n",
              "    <tr>\n",
              "      <th>4</th>\n",
              "      <td>84358402</td>\n",
              "      <td>M</td>\n",
              "      <td>20.29</td>\n",
              "      <td>14.34</td>\n",
              "      <td>135.1</td>\n",
              "      <td>1297</td>\n",
              "      <td>0.1003</td>\n",
              "      <td>0.1328</td>\n",
              "      <td>0.198</td>\n",
              "      <td>0.1043</td>\n",
              "      <td>...</td>\n",
              "      <td>22.54</td>\n",
              "      <td>16.67</td>\n",
              "      <td>152.2</td>\n",
              "      <td>1575</td>\n",
              "      <td>0.1374</td>\n",
              "      <td>0.205</td>\n",
              "      <td>0.4</td>\n",
              "      <td>0.1625</td>\n",
              "      <td>0.2364</td>\n",
              "      <td>0.07678</td>\n",
              "    </tr>\n",
              "    <tr>\n",
              "      <th>...</th>\n",
              "      <td>...</td>\n",
              "      <td>...</td>\n",
              "      <td>...</td>\n",
              "      <td>...</td>\n",
              "      <td>...</td>\n",
              "      <td>...</td>\n",
              "      <td>...</td>\n",
              "      <td>...</td>\n",
              "      <td>...</td>\n",
              "      <td>...</td>\n",
              "      <td>...</td>\n",
              "      <td>...</td>\n",
              "      <td>...</td>\n",
              "      <td>...</td>\n",
              "      <td>...</td>\n",
              "      <td>...</td>\n",
              "      <td>...</td>\n",
              "      <td>...</td>\n",
              "      <td>...</td>\n",
              "      <td>...</td>\n",
              "      <td>...</td>\n",
              "    </tr>\n",
              "    <tr>\n",
              "      <th>564</th>\n",
              "      <td>926424</td>\n",
              "      <td>M</td>\n",
              "      <td>21.56</td>\n",
              "      <td>22.39</td>\n",
              "      <td>142</td>\n",
              "      <td>1479</td>\n",
              "      <td>0.111</td>\n",
              "      <td>0.1159</td>\n",
              "      <td>0.2439</td>\n",
              "      <td>0.1389</td>\n",
              "      <td>...</td>\n",
              "      <td>25.45</td>\n",
              "      <td>26.4</td>\n",
              "      <td>166.1</td>\n",
              "      <td>2027</td>\n",
              "      <td>0.141</td>\n",
              "      <td>0.2113</td>\n",
              "      <td>0.4107</td>\n",
              "      <td>0.2216</td>\n",
              "      <td>0.206</td>\n",
              "      <td>0.07115</td>\n",
              "    </tr>\n",
              "    <tr>\n",
              "      <th>565</th>\n",
              "      <td>926682</td>\n",
              "      <td>M</td>\n",
              "      <td>20.13</td>\n",
              "      <td>28.25</td>\n",
              "      <td>131.2</td>\n",
              "      <td>1261</td>\n",
              "      <td>0.0978</td>\n",
              "      <td>0.1034</td>\n",
              "      <td>0.144</td>\n",
              "      <td>0.09791</td>\n",
              "      <td>...</td>\n",
              "      <td>23.69</td>\n",
              "      <td>38.25</td>\n",
              "      <td>155</td>\n",
              "      <td>1731</td>\n",
              "      <td>0.1166</td>\n",
              "      <td>0.1922</td>\n",
              "      <td>0.3215</td>\n",
              "      <td>0.1628</td>\n",
              "      <td>0.2572</td>\n",
              "      <td>0.06637</td>\n",
              "    </tr>\n",
              "    <tr>\n",
              "      <th>566</th>\n",
              "      <td>926954</td>\n",
              "      <td>M</td>\n",
              "      <td>16.6</td>\n",
              "      <td>28.08</td>\n",
              "      <td>108.3</td>\n",
              "      <td>858.1</td>\n",
              "      <td>0.08455</td>\n",
              "      <td>0.1023</td>\n",
              "      <td>0.09251</td>\n",
              "      <td>0.05302</td>\n",
              "      <td>...</td>\n",
              "      <td>18.98</td>\n",
              "      <td>34.12</td>\n",
              "      <td>126.7</td>\n",
              "      <td>1124</td>\n",
              "      <td>0.1139</td>\n",
              "      <td>0.3094</td>\n",
              "      <td>0.3403</td>\n",
              "      <td>0.1418</td>\n",
              "      <td>0.2218</td>\n",
              "      <td>0.0782</td>\n",
              "    </tr>\n",
              "    <tr>\n",
              "      <th>567</th>\n",
              "      <td>927241</td>\n",
              "      <td>M</td>\n",
              "      <td>20.6</td>\n",
              "      <td>29.33</td>\n",
              "      <td>140.1</td>\n",
              "      <td>1265</td>\n",
              "      <td>0.1178</td>\n",
              "      <td>0.277</td>\n",
              "      <td>0.3514</td>\n",
              "      <td>0.152</td>\n",
              "      <td>...</td>\n",
              "      <td>25.74</td>\n",
              "      <td>39.42</td>\n",
              "      <td>184.6</td>\n",
              "      <td>1821</td>\n",
              "      <td>0.165</td>\n",
              "      <td>0.8681</td>\n",
              "      <td>0.9387</td>\n",
              "      <td>0.265</td>\n",
              "      <td>0.4087</td>\n",
              "      <td>0.124</td>\n",
              "    </tr>\n",
              "    <tr>\n",
              "      <th>568</th>\n",
              "      <td>92751</td>\n",
              "      <td>B</td>\n",
              "      <td>7.76</td>\n",
              "      <td>24.54</td>\n",
              "      <td>47.92</td>\n",
              "      <td>181</td>\n",
              "      <td>0.05263</td>\n",
              "      <td>0.04362</td>\n",
              "      <td>0</td>\n",
              "      <td>0</td>\n",
              "      <td>...</td>\n",
              "      <td>9.456</td>\n",
              "      <td>30.37</td>\n",
              "      <td>59.16</td>\n",
              "      <td>268.6</td>\n",
              "      <td>0.08996</td>\n",
              "      <td>0.06444</td>\n",
              "      <td>0</td>\n",
              "      <td>0</td>\n",
              "      <td>0.2871</td>\n",
              "      <td>0.07039</td>\n",
              "    </tr>\n",
              "  </tbody>\n",
              "</table>\n",
              "<p>569 rows × 32 columns</p>\n",
              "</div>\n",
              "    <div class=\"colab-df-buttons\">\n",
              "\n",
              "  <div class=\"colab-df-container\">\n",
              "    <button class=\"colab-df-convert\" onclick=\"convertToInteractive('df-9d4e4131-5909-4026-b9e7-6ccf1943d8da')\"\n",
              "            title=\"Convert this dataframe to an interactive table.\"\n",
              "            style=\"display:none;\">\n",
              "\n",
              "  <svg xmlns=\"http://www.w3.org/2000/svg\" height=\"24px\" viewBox=\"0 -960 960 960\">\n",
              "    <path d=\"M120-120v-720h720v720H120Zm60-500h600v-160H180v160Zm220 220h160v-160H400v160Zm0 220h160v-160H400v160ZM180-400h160v-160H180v160Zm440 0h160v-160H620v160ZM180-180h160v-160H180v160Zm440 0h160v-160H620v160Z\"/>\n",
              "  </svg>\n",
              "    </button>\n",
              "\n",
              "  <style>\n",
              "    .colab-df-container {\n",
              "      display:flex;\n",
              "      gap: 12px;\n",
              "    }\n",
              "\n",
              "    .colab-df-convert {\n",
              "      background-color: #E8F0FE;\n",
              "      border: none;\n",
              "      border-radius: 50%;\n",
              "      cursor: pointer;\n",
              "      display: none;\n",
              "      fill: #1967D2;\n",
              "      height: 32px;\n",
              "      padding: 0 0 0 0;\n",
              "      width: 32px;\n",
              "    }\n",
              "\n",
              "    .colab-df-convert:hover {\n",
              "      background-color: #E2EBFA;\n",
              "      box-shadow: 0px 1px 2px rgba(60, 64, 67, 0.3), 0px 1px 3px 1px rgba(60, 64, 67, 0.15);\n",
              "      fill: #174EA6;\n",
              "    }\n",
              "\n",
              "    .colab-df-buttons div {\n",
              "      margin-bottom: 4px;\n",
              "    }\n",
              "\n",
              "    [theme=dark] .colab-df-convert {\n",
              "      background-color: #3B4455;\n",
              "      fill: #D2E3FC;\n",
              "    }\n",
              "\n",
              "    [theme=dark] .colab-df-convert:hover {\n",
              "      background-color: #434B5C;\n",
              "      box-shadow: 0px 1px 3px 1px rgba(0, 0, 0, 0.15);\n",
              "      filter: drop-shadow(0px 1px 2px rgba(0, 0, 0, 0.3));\n",
              "      fill: #FFFFFF;\n",
              "    }\n",
              "  </style>\n",
              "\n",
              "    <script>\n",
              "      const buttonEl =\n",
              "        document.querySelector('#df-9d4e4131-5909-4026-b9e7-6ccf1943d8da button.colab-df-convert');\n",
              "      buttonEl.style.display =\n",
              "        google.colab.kernel.accessAllowed ? 'block' : 'none';\n",
              "\n",
              "      async function convertToInteractive(key) {\n",
              "        const element = document.querySelector('#df-9d4e4131-5909-4026-b9e7-6ccf1943d8da');\n",
              "        const dataTable =\n",
              "          await google.colab.kernel.invokeFunction('convertToInteractive',\n",
              "                                                    [key], {});\n",
              "        if (!dataTable) return;\n",
              "\n",
              "        const docLinkHtml = 'Like what you see? Visit the ' +\n",
              "          '<a target=\"_blank\" href=https://colab.research.google.com/notebooks/data_table.ipynb>data table notebook</a>'\n",
              "          + ' to learn more about interactive tables.';\n",
              "        element.innerHTML = '';\n",
              "        dataTable['output_type'] = 'display_data';\n",
              "        await google.colab.output.renderOutput(dataTable, element);\n",
              "        const docLink = document.createElement('div');\n",
              "        docLink.innerHTML = docLinkHtml;\n",
              "        element.appendChild(docLink);\n",
              "      }\n",
              "    </script>\n",
              "  </div>\n",
              "\n",
              "\n",
              "<div id=\"df-691ee839-340f-4e4a-a4d8-647296467d2e\">\n",
              "  <button class=\"colab-df-quickchart\" onclick=\"quickchart('df-691ee839-340f-4e4a-a4d8-647296467d2e')\"\n",
              "            title=\"Suggest charts\"\n",
              "            style=\"display:none;\">\n",
              "\n",
              "<svg xmlns=\"http://www.w3.org/2000/svg\" height=\"24px\"viewBox=\"0 0 24 24\"\n",
              "     width=\"24px\">\n",
              "    <g>\n",
              "        <path d=\"M19 3H5c-1.1 0-2 .9-2 2v14c0 1.1.9 2 2 2h14c1.1 0 2-.9 2-2V5c0-1.1-.9-2-2-2zM9 17H7v-7h2v7zm4 0h-2V7h2v10zm4 0h-2v-4h2v4z\"/>\n",
              "    </g>\n",
              "</svg>\n",
              "  </button>\n",
              "\n",
              "<style>\n",
              "  .colab-df-quickchart {\n",
              "      --bg-color: #E8F0FE;\n",
              "      --fill-color: #1967D2;\n",
              "      --hover-bg-color: #E2EBFA;\n",
              "      --hover-fill-color: #174EA6;\n",
              "      --disabled-fill-color: #AAA;\n",
              "      --disabled-bg-color: #DDD;\n",
              "  }\n",
              "\n",
              "  [theme=dark] .colab-df-quickchart {\n",
              "      --bg-color: #3B4455;\n",
              "      --fill-color: #D2E3FC;\n",
              "      --hover-bg-color: #434B5C;\n",
              "      --hover-fill-color: #FFFFFF;\n",
              "      --disabled-bg-color: #3B4455;\n",
              "      --disabled-fill-color: #666;\n",
              "  }\n",
              "\n",
              "  .colab-df-quickchart {\n",
              "    background-color: var(--bg-color);\n",
              "    border: none;\n",
              "    border-radius: 50%;\n",
              "    cursor: pointer;\n",
              "    display: none;\n",
              "    fill: var(--fill-color);\n",
              "    height: 32px;\n",
              "    padding: 0;\n",
              "    width: 32px;\n",
              "  }\n",
              "\n",
              "  .colab-df-quickchart:hover {\n",
              "    background-color: var(--hover-bg-color);\n",
              "    box-shadow: 0 1px 2px rgba(60, 64, 67, 0.3), 0 1px 3px 1px rgba(60, 64, 67, 0.15);\n",
              "    fill: var(--button-hover-fill-color);\n",
              "  }\n",
              "\n",
              "  .colab-df-quickchart-complete:disabled,\n",
              "  .colab-df-quickchart-complete:disabled:hover {\n",
              "    background-color: var(--disabled-bg-color);\n",
              "    fill: var(--disabled-fill-color);\n",
              "    box-shadow: none;\n",
              "  }\n",
              "\n",
              "  .colab-df-spinner {\n",
              "    border: 2px solid var(--fill-color);\n",
              "    border-color: transparent;\n",
              "    border-bottom-color: var(--fill-color);\n",
              "    animation:\n",
              "      spin 1s steps(1) infinite;\n",
              "  }\n",
              "\n",
              "  @keyframes spin {\n",
              "    0% {\n",
              "      border-color: transparent;\n",
              "      border-bottom-color: var(--fill-color);\n",
              "      border-left-color: var(--fill-color);\n",
              "    }\n",
              "    20% {\n",
              "      border-color: transparent;\n",
              "      border-left-color: var(--fill-color);\n",
              "      border-top-color: var(--fill-color);\n",
              "    }\n",
              "    30% {\n",
              "      border-color: transparent;\n",
              "      border-left-color: var(--fill-color);\n",
              "      border-top-color: var(--fill-color);\n",
              "      border-right-color: var(--fill-color);\n",
              "    }\n",
              "    40% {\n",
              "      border-color: transparent;\n",
              "      border-right-color: var(--fill-color);\n",
              "      border-top-color: var(--fill-color);\n",
              "    }\n",
              "    60% {\n",
              "      border-color: transparent;\n",
              "      border-right-color: var(--fill-color);\n",
              "    }\n",
              "    80% {\n",
              "      border-color: transparent;\n",
              "      border-right-color: var(--fill-color);\n",
              "      border-bottom-color: var(--fill-color);\n",
              "    }\n",
              "    90% {\n",
              "      border-color: transparent;\n",
              "      border-bottom-color: var(--fill-color);\n",
              "    }\n",
              "  }\n",
              "</style>\n",
              "\n",
              "  <script>\n",
              "    async function quickchart(key) {\n",
              "      const quickchartButtonEl =\n",
              "        document.querySelector('#' + key + ' button');\n",
              "      quickchartButtonEl.disabled = true;  // To prevent multiple clicks.\n",
              "      quickchartButtonEl.classList.add('colab-df-spinner');\n",
              "      try {\n",
              "        const charts = await google.colab.kernel.invokeFunction(\n",
              "            'suggestCharts', [key], {});\n",
              "      } catch (error) {\n",
              "        console.error('Error during call to suggestCharts:', error);\n",
              "      }\n",
              "      quickchartButtonEl.classList.remove('colab-df-spinner');\n",
              "      quickchartButtonEl.classList.add('colab-df-quickchart-complete');\n",
              "    }\n",
              "    (() => {\n",
              "      let quickchartButtonEl =\n",
              "        document.querySelector('#df-691ee839-340f-4e4a-a4d8-647296467d2e button');\n",
              "      quickchartButtonEl.style.display =\n",
              "        google.colab.kernel.accessAllowed ? 'block' : 'none';\n",
              "    })();\n",
              "  </script>\n",
              "</div>\n",
              "\n",
              "  <div id=\"id_3300d4e4-c470-4fa5-9263-d9de8bfa8566\">\n",
              "    <style>\n",
              "      .colab-df-generate {\n",
              "        background-color: #E8F0FE;\n",
              "        border: none;\n",
              "        border-radius: 50%;\n",
              "        cursor: pointer;\n",
              "        display: none;\n",
              "        fill: #1967D2;\n",
              "        height: 32px;\n",
              "        padding: 0 0 0 0;\n",
              "        width: 32px;\n",
              "      }\n",
              "\n",
              "      .colab-df-generate:hover {\n",
              "        background-color: #E2EBFA;\n",
              "        box-shadow: 0px 1px 2px rgba(60, 64, 67, 0.3), 0px 1px 3px 1px rgba(60, 64, 67, 0.15);\n",
              "        fill: #174EA6;\n",
              "      }\n",
              "\n",
              "      [theme=dark] .colab-df-generate {\n",
              "        background-color: #3B4455;\n",
              "        fill: #D2E3FC;\n",
              "      }\n",
              "\n",
              "      [theme=dark] .colab-df-generate:hover {\n",
              "        background-color: #434B5C;\n",
              "        box-shadow: 0px 1px 3px 1px rgba(0, 0, 0, 0.15);\n",
              "        filter: drop-shadow(0px 1px 2px rgba(0, 0, 0, 0.3));\n",
              "        fill: #FFFFFF;\n",
              "      }\n",
              "    </style>\n",
              "    <button class=\"colab-df-generate\" onclick=\"generateWithVariable('df_pd')\"\n",
              "            title=\"Generate code using this dataframe.\"\n",
              "            style=\"display:none;\">\n",
              "\n",
              "  <svg xmlns=\"http://www.w3.org/2000/svg\" height=\"24px\"viewBox=\"0 0 24 24\"\n",
              "       width=\"24px\">\n",
              "    <path d=\"M7,19H8.4L18.45,9,17,7.55,7,17.6ZM5,21V16.75L18.45,3.32a2,2,0,0,1,2.83,0l1.4,1.43a1.91,1.91,0,0,1,.58,1.4,1.91,1.91,0,0,1-.58,1.4L9.25,21ZM18.45,9,17,7.55Zm-12,3A5.31,5.31,0,0,0,4.9,8.1,5.31,5.31,0,0,0,1,6.5,5.31,5.31,0,0,0,4.9,4.9,5.31,5.31,0,0,0,6.5,1,5.31,5.31,0,0,0,8.1,4.9,5.31,5.31,0,0,0,12,6.5,5.46,5.46,0,0,0,6.5,12Z\"/>\n",
              "  </svg>\n",
              "    </button>\n",
              "    <script>\n",
              "      (() => {\n",
              "      const buttonEl =\n",
              "        document.querySelector('#id_3300d4e4-c470-4fa5-9263-d9de8bfa8566 button.colab-df-generate');\n",
              "      buttonEl.style.display =\n",
              "        google.colab.kernel.accessAllowed ? 'block' : 'none';\n",
              "\n",
              "      buttonEl.onclick = () => {\n",
              "        google.colab.notebook.generateWithVariable('df_pd');\n",
              "      }\n",
              "      })();\n",
              "    </script>\n",
              "  </div>\n",
              "\n",
              "    </div>\n",
              "  </div>\n"
            ],
            "application/vnd.google.colaboratory.intrinsic+json": {
              "type": "dataframe",
              "variable_name": "df_pd"
            }
          },
          "metadata": {},
          "execution_count": 11
        }
      ],
      "source": [
        "# PySpark para Pandas\n",
        "df_pd = df_spark.toPandas()\n",
        "df_pd = df_pd.drop(columns='_c32')\n",
        "df_pd"
      ]
    },
    {
      "cell_type": "code",
      "execution_count": 12,
      "metadata": {
        "id": "QNiuiT3x8_e9"
      },
      "outputs": [],
      "source": [
        "# Pandas para PySpark\n",
        "df_spark2 = spark.createDataFrame(df_pd)"
      ]
    },
    {
      "cell_type": "markdown",
      "metadata": {
        "id": "ogYc92gn8_e-"
      },
      "source": [
        "## Operações"
      ]
    },
    {
      "cell_type": "code",
      "source": [
        "import pyspark.sql.functions as F\n",
        "from pyspark.sql.functions import when"
      ],
      "metadata": {
        "id": "qWuBdt1LOHUl"
      },
      "execution_count": 13,
      "outputs": []
    },
    {
      "cell_type": "code",
      "source": [
        "sdf = df_spark"
      ],
      "metadata": {
        "id": "RRTdF6JCNJBZ"
      },
      "execution_count": 14,
      "outputs": []
    },
    {
      "cell_type": "code",
      "execution_count": 15,
      "metadata": {
        "id": "APvnrHUG8_e-",
        "outputId": "eb19a8a5-57db-4335-c392-1db7a44b551b",
        "colab": {
          "base_uri": "https://localhost:8080/"
        }
      },
      "outputs": [
        {
          "output_type": "stream",
          "name": "stdout",
          "text": [
            "+---------+-----------+------------+--------------+---------+---------------+----------------+--------------+-------------------+-------------+----------------------+---------+----------+------------+-------+-------------+--------------+------------+-----------------+-----------+--------------------+------------+-------------+---------------+----------+----------------+-----------------+---------------+--------------------+--------------+-----------------------+\n",
            "|diagnosis|radius_mean|texture_mean|perimeter_mean|area_mean|smoothness_mean|compactness_mean|concavity_mean|concave points_mean|symmetry_mean|fractal_dimension_mean|radius_se|texture_se|perimeter_se|area_se|smoothness_se|compactness_se|concavity_se|concave points_se|symmetry_se|fractal_dimension_se|radius_worst|texture_worst|perimeter_worst|area_worst|smoothness_worst|compactness_worst|concavity_worst|concave points_worst|symmetry_worst|fractal_dimension_worst|\n",
            "+---------+-----------+------------+--------------+---------+---------------+----------------+--------------+-------------------+-------------+----------------------+---------+----------+------------+-------+-------------+--------------+------------+-----------------+-----------+--------------------+------------+-------------+---------------+----------+----------------+-----------------+---------------+--------------------+--------------+-----------------------+\n",
            "|        M|      17.99|       10.38|         122.8|     1001|         0.1184|          0.2776|        0.3001|             0.1471|       0.2419|               0.07871|    1.095|    0.9053|       8.589|  153.4|     0.006399|       0.04904|     0.05373|          0.01587|    0.03003|            0.006193|       25.38|        17.33|          184.6|      2019|          0.1622|           0.6656|         0.7119|              0.2654|        0.4601|                 0.1189|\n",
            "|        M|      20.57|       17.77|         132.9|     1326|        0.08474|         0.07864|        0.0869|            0.07017|       0.1812|               0.05667|   0.5435|    0.7339|       3.398|  74.08|     0.005225|       0.01308|      0.0186|           0.0134|    0.01389|            0.003532|       24.99|        23.41|          158.8|      1956|          0.1238|           0.1866|         0.2416|               0.186|         0.275|                0.08902|\n",
            "+---------+-----------+------------+--------------+---------+---------------+----------------+--------------+-------------------+-------------+----------------------+---------+----------+------------+-------+-------------+--------------+------------+-----------------+-----------+--------------------+------------+-------------+---------------+----------+----------------+-----------------+---------------+--------------------+--------------+-----------------------+\n",
            "only showing top 2 rows\n",
            "\n"
          ]
        }
      ],
      "source": [
        "df_spark_mod = df_spark.drop('id','_c32')\n",
        "df_spark_mod.show(2)"
      ]
    },
    {
      "cell_type": "code",
      "source": [
        "sdf.count()"
      ],
      "metadata": {
        "colab": {
          "base_uri": "https://localhost:8080/"
        },
        "id": "VjIpaIFwN7SQ",
        "outputId": "bb4248ca-7f6b-417d-cd36-425fa90c1879"
      },
      "execution_count": 16,
      "outputs": [
        {
          "output_type": "execute_result",
          "data": {
            "text/plain": [
              "569"
            ]
          },
          "metadata": {},
          "execution_count": 16
        }
      ]
    },
    {
      "cell_type": "code",
      "source": [
        "sdf.filter(F.col('radius_mean').isNotNull()).count()"
      ],
      "metadata": {
        "colab": {
          "base_uri": "https://localhost:8080/"
        },
        "id": "wvsZXr9dNpS-",
        "outputId": "be5e3e5e-654a-484f-9a3e-60705e8bd1f1"
      },
      "execution_count": 17,
      "outputs": [
        {
          "output_type": "execute_result",
          "data": {
            "text/plain": [
              "569"
            ]
          },
          "metadata": {},
          "execution_count": 17
        }
      ]
    },
    {
      "cell_type": "code",
      "source": [
        "for c in sdf.columns:\n",
        "  val= sdf.filter(F.col(c).isNotNull()).count()\n",
        "  print(f'coluna {c}:',val)\n"
      ],
      "metadata": {
        "colab": {
          "base_uri": "https://localhost:8080/"
        },
        "id": "bLB9F1UdPKVD",
        "outputId": "cf204d2e-30b8-4781-b70f-f02d7b4c5e40"
      },
      "execution_count": 18,
      "outputs": [
        {
          "output_type": "stream",
          "name": "stdout",
          "text": [
            "coluna id: 569\n",
            "coluna diagnosis: 569\n",
            "coluna radius_mean: 569\n",
            "coluna texture_mean: 569\n",
            "coluna perimeter_mean: 569\n",
            "coluna area_mean: 569\n",
            "coluna smoothness_mean: 569\n",
            "coluna compactness_mean: 569\n",
            "coluna concavity_mean: 569\n",
            "coluna concave points_mean: 569\n",
            "coluna symmetry_mean: 569\n",
            "coluna fractal_dimension_mean: 569\n",
            "coluna radius_se: 569\n",
            "coluna texture_se: 569\n",
            "coluna perimeter_se: 569\n",
            "coluna area_se: 569\n",
            "coluna smoothness_se: 569\n",
            "coluna compactness_se: 569\n",
            "coluna concavity_se: 569\n",
            "coluna concave points_se: 569\n",
            "coluna symmetry_se: 569\n",
            "coluna fractal_dimension_se: 569\n",
            "coluna radius_worst: 569\n",
            "coluna texture_worst: 569\n",
            "coluna perimeter_worst: 569\n",
            "coluna area_worst: 569\n",
            "coluna smoothness_worst: 569\n",
            "coluna compactness_worst: 569\n",
            "coluna concavity_worst: 569\n",
            "coluna concave points_worst: 569\n",
            "coluna symmetry_worst: 569\n",
            "coluna fractal_dimension_worst: 569\n",
            "coluna _c32: 0\n"
          ]
        }
      ]
    },
    {
      "cell_type": "code",
      "source": [
        "sdf.dropDuplicates(subset= ['diagnosis']).count()"
      ],
      "metadata": {
        "colab": {
          "base_uri": "https://localhost:8080/"
        },
        "id": "hYLQKdO3RZtW",
        "outputId": "650c2881-8279-455d-cf84-628724ece285"
      },
      "execution_count": 19,
      "outputs": [
        {
          "output_type": "execute_result",
          "data": {
            "text/plain": [
              "2"
            ]
          },
          "metadata": {},
          "execution_count": 19
        }
      ]
    },
    {
      "cell_type": "code",
      "execution_count": 20,
      "metadata": {
        "id": "AAf3dUxj8_e-",
        "outputId": "b09cf846-e2c6-41f4-ff02-d9f141e58d76",
        "colab": {
          "base_uri": "https://localhost:8080/"
        }
      },
      "outputs": [
        {
          "output_type": "stream",
          "name": "stdout",
          "text": [
            "+---------+-----------+--------------+---------+\n",
            "|diagnosis|radius_mean|perimeter_mean|area_mean|\n",
            "+---------+-----------+--------------+---------+\n",
            "|        M|      17.99|         122.8|     1001|\n",
            "|        M|      20.57|         132.9|     1326|\n",
            "+---------+-----------+--------------+---------+\n",
            "only showing top 2 rows\n",
            "\n"
          ]
        }
      ],
      "source": [
        "df_spark_mod = df_spark.select('diagnosis','radius_mean','perimeter_mean','area_mean')\n",
        "df_spark_mod.show(2)"
      ]
    },
    {
      "cell_type": "code",
      "execution_count": 21,
      "metadata": {
        "id": "_dqkljYP8_e-",
        "outputId": "d20723ec-45a0-49fa-e696-02d553ad4b3f",
        "colab": {
          "base_uri": "https://localhost:8080/"
        }
      },
      "outputs": [
        {
          "output_type": "stream",
          "name": "stdout",
          "text": [
            "+---------+-----------+-------------+---------+\n",
            "|diagnosis|radius_mean|perimeter_avg|area_mean|\n",
            "+---------+-----------+-------------+---------+\n",
            "|        M|      17.99|        122.8|     1001|\n",
            "|        M|      20.57|        132.9|     1326|\n",
            "|        M|      19.69|          130|     1203|\n",
            "|        M|      11.42|        77.58|    386.1|\n",
            "|        M|      20.29|        135.1|     1297|\n",
            "|        M|      12.45|        82.57|    477.1|\n",
            "|        M|      18.25|        119.6|     1040|\n",
            "|        M|      13.71|         90.2|    577.9|\n",
            "|        M|         13|         87.5|    519.8|\n",
            "|        M|      12.46|        83.97|    475.9|\n",
            "+---------+-----------+-------------+---------+\n",
            "only showing top 10 rows\n",
            "\n"
          ]
        }
      ],
      "source": [
        "df_spark_mod2 = df_spark_mod.withColumnRenamed(\"perimeter_mean\", \"perimeter_avg\")\n",
        "df_spark_mod2.show(10)"
      ]
    },
    {
      "cell_type": "code",
      "execution_count": 22,
      "metadata": {
        "id": "OMkeTOg18_e-",
        "outputId": "6f9f713d-3f7d-4bdc-b7b7-00be704a484f",
        "colab": {
          "base_uri": "https://localhost:8080/"
        }
      },
      "outputs": [
        {
          "output_type": "stream",
          "name": "stdout",
          "text": [
            "+---------+-----------+--------------+---------+-----------+\n",
            "|diagnosis|radius_mean|perimeter_mean|area_mean|       base|\n",
            "+---------+-----------+--------------+---------+-----------+\n",
            "|        M|      17.99|         122.8|     1001|Cancer_Data|\n",
            "|        M|      20.57|         132.9|     1326|Cancer_Data|\n",
            "+---------+-----------+--------------+---------+-----------+\n",
            "only showing top 2 rows\n",
            "\n"
          ]
        }
      ],
      "source": [
        "df_spark_mod = df_spark_mod.withColumn('base',F.lit(\"Cancer_Data\"))\n",
        "df_spark_mod.show(2)"
      ]
    },
    {
      "cell_type": "code",
      "source": [
        "df_spark_mod.select('diagnosis').distinct().show()"
      ],
      "metadata": {
        "colab": {
          "base_uri": "https://localhost:8080/"
        },
        "id": "JbU2OV-bS8UU",
        "outputId": "f0f422d8-8772-4047-8959-7f3701420376"
      },
      "execution_count": 23,
      "outputs": [
        {
          "output_type": "stream",
          "name": "stdout",
          "text": [
            "+---------+\n",
            "|diagnosis|\n",
            "+---------+\n",
            "|        B|\n",
            "|        M|\n",
            "+---------+\n",
            "\n"
          ]
        }
      ]
    },
    {
      "cell_type": "code",
      "source": [
        "df_spark_mod.groupBy('diagnosis').count().show()"
      ],
      "metadata": {
        "colab": {
          "base_uri": "https://localhost:8080/"
        },
        "id": "luv-H6BETLBi",
        "outputId": "130c8a7b-fa1d-4c70-f375-299c869557b0"
      },
      "execution_count": 24,
      "outputs": [
        {
          "output_type": "stream",
          "name": "stdout",
          "text": [
            "+---------+-----+\n",
            "|diagnosis|count|\n",
            "+---------+-----+\n",
            "|        B|  357|\n",
            "|        M|  212|\n",
            "+---------+-----+\n",
            "\n"
          ]
        }
      ]
    },
    {
      "cell_type": "code",
      "execution_count": 25,
      "metadata": {
        "id": "nDoDoJEF8_e_",
        "outputId": "17880fe5-b7bf-4a87-91e0-6b05d218d576",
        "colab": {
          "base_uri": "https://localhost:8080/"
        }
      },
      "outputs": [
        {
          "output_type": "stream",
          "name": "stdout",
          "text": [
            "+---------+-----------+--------------+---------+-----------+------------------+\n",
            "|diagnosis|radius_mean|perimeter_mean|area_mean|       base|        area_aprox|\n",
            "+---------+-----------+--------------+---------+-----------+------------------+\n",
            "|        M|      17.99|         122.8|     1001|Cancer_Data|1016.7153741499999|\n",
            "|        M|      20.57|         132.9|     1326|Cancer_Data|1329.2468733500002|\n",
            "+---------+-----------+--------------+---------+-----------+------------------+\n",
            "only showing top 2 rows\n",
            "\n"
          ]
        }
      ],
      "source": [
        "df_spark_mod = df_spark_mod.withColumn('area_aprox',3.1415*F.col('radius_mean')**2)\n",
        "df_spark_mod.show(2)"
      ]
    },
    {
      "cell_type": "code",
      "execution_count": 26,
      "metadata": {
        "id": "CdO_O8lh8_e_",
        "outputId": "f26c24b3-9737-4835-b968-7b44c0dcf438",
        "colab": {
          "base_uri": "https://localhost:8080/"
        }
      },
      "outputs": [
        {
          "output_type": "stream",
          "name": "stdout",
          "text": [
            "+---------+-----------+--------------+---------+-----------+----------+\n",
            "|diagnosis|radius_mean|perimeter_mean|area_mean|       base|area_aprox|\n",
            "+---------+-----------+--------------+---------+-----------+----------+\n",
            "|        M|      17.99|         122.8|     1001|Cancer_Data|    1017.0|\n",
            "|        M|      20.57|         132.9|     1326|Cancer_Data|    1329.0|\n",
            "+---------+-----------+--------------+---------+-----------+----------+\n",
            "only showing top 2 rows\n",
            "\n"
          ]
        }
      ],
      "source": [
        "df_spark_mod = df_spark_mod.withColumn('area_aprox',F.round(F.col('area_aprox')))\n",
        "df_spark_mod.show(2)"
      ]
    },
    {
      "cell_type": "code",
      "execution_count": 27,
      "metadata": {
        "id": "w7l5zD-m8_e_",
        "outputId": "bede172c-fa0e-434f-f69b-246c89c11914",
        "colab": {
          "base_uri": "https://localhost:8080/"
        }
      },
      "outputs": [
        {
          "output_type": "stream",
          "name": "stdout",
          "text": [
            "+---------+-----------+--------------+---------+-----------+----------+--------------+\n",
            "|diagnosis|radius_mean|perimeter_mean|area_mean|       base|area_aprox|diagnosis_desc|\n",
            "+---------+-----------+--------------+---------+-----------+----------+--------------+\n",
            "|        M|      17.99|         122.8|     1001|Cancer_Data|    1017.0|     malignant|\n",
            "|        M|      20.57|         132.9|     1326|Cancer_Data|    1329.0|     malignant|\n",
            "+---------+-----------+--------------+---------+-----------+----------+--------------+\n",
            "only showing top 2 rows\n",
            "\n"
          ]
        }
      ],
      "source": [
        "df_spark_mod = df_spark_mod.withColumn('diagnosis_desc',\n",
        "                                       when(F.col('diagnosis')=='M','malignant')\n",
        "                                       .when(F.col('diagnosis')=='B','benign')\n",
        "                                       .otherwise('others'))\n",
        "df_spark_mod.show(2)"
      ]
    },
    {
      "cell_type": "code",
      "execution_count": 28,
      "metadata": {
        "id": "iUM9bpZf8_e_",
        "outputId": "c892c645-3453-4421-d3b4-2af58618c97a",
        "colab": {
          "base_uri": "https://localhost:8080/"
        }
      },
      "outputs": [
        {
          "output_type": "stream",
          "name": "stdout",
          "text": [
            "+---------+-----------+--------------+---------+-----------+----------+--------------+\n",
            "|diagnosis|radius_mean|perimeter_mean|area_mean|       base|area_aprox|diagnosis_desc|\n",
            "+---------+-----------+--------------+---------+-----------+----------+--------------+\n",
            "|        B|      13.54|         87.46|    566.3|Cancer_Data|     576.0|        benign|\n",
            "|        B|      13.08|         85.63|      520|Cancer_Data|     537.0|        benign|\n",
            "|        B|      9.504|         60.34|    273.9|Cancer_Data|     284.0|        benign|\n",
            "+---------+-----------+--------------+---------+-----------+----------+--------------+\n",
            "only showing top 3 rows\n",
            "\n"
          ]
        }
      ],
      "source": [
        "df_benign = df_spark_mod.filter(F.col('diagnosis_desc')=='benign')\n",
        "df_benign.show(3)"
      ]
    },
    {
      "cell_type": "code",
      "execution_count": 29,
      "metadata": {
        "id": "hjiTJKEd8_e_",
        "outputId": "fcb81a53-45e2-42a1-db39-f9e0285957bf",
        "colab": {
          "base_uri": "https://localhost:8080/"
        }
      },
      "outputs": [
        {
          "output_type": "stream",
          "name": "stdout",
          "text": [
            "+---------+-----------+--------------+---------+-----------+----------+--------------+\n",
            "|diagnosis|radius_mean|perimeter_mean|area_mean|       base|area_aprox|diagnosis_desc|\n",
            "+---------+-----------+--------------+---------+-----------+----------+--------------+\n",
            "|        B|      13.54|         87.46|    566.3|Cancer_Data|     576.0|        benign|\n",
            "|        B|      13.08|         85.63|      520|Cancer_Data|     537.0|        benign|\n",
            "|        B|      9.504|         60.34|    273.9|Cancer_Data|     284.0|        benign|\n",
            "+---------+-----------+--------------+---------+-----------+----------+--------------+\n",
            "only showing top 3 rows\n",
            "\n"
          ]
        }
      ],
      "source": [
        "df_benign = df_spark_mod.filter(\"diagnosis_desc =='benign'\")\n",
        "df_benign.show(3)"
      ]
    },
    {
      "cell_type": "code",
      "execution_count": 30,
      "metadata": {
        "id": "fL5T73fi8_e_",
        "outputId": "951866b4-ab78-4a4c-a369-b8fce96ef751",
        "colab": {
          "base_uri": "https://localhost:8080/"
        }
      },
      "outputs": [
        {
          "output_type": "stream",
          "name": "stdout",
          "text": [
            "+---------+-----------+--------------+---------+-----------+----------+--------------+\n",
            "|diagnosis|radius_mean|perimeter_mean|area_mean|       base|area_aprox|diagnosis_desc|\n",
            "+---------+-----------+--------------+---------+-----------+----------+--------------+\n",
            "|        B|      9.504|         60.34|    273.9|Cancer_Data|     284.0|        benign|\n",
            "|        B|      8.196|         51.71|    201.9|Cancer_Data|     211.0|        benign|\n",
            "|        B|      8.618|         54.34|    224.5|Cancer_Data|     233.0|        benign|\n",
            "|        B|      10.17|         64.55|    311.9|Cancer_Data|     325.0|        benign|\n",
            "|        B|      8.598|         54.66|    221.8|Cancer_Data|     232.0|        benign|\n",
            "|        B|      9.173|          59.2|    260.9|Cancer_Data|     264.0|        benign|\n",
            "|        B|      9.465|         60.11|    269.4|Cancer_Data|     281.0|        benign|\n",
            "|        B|      9.029|         58.79|    250.5|Cancer_Data|     256.0|        benign|\n",
            "|        B|      8.888|         58.79|      244|Cancer_Data|     248.0|        benign|\n",
            "|        B|      9.787|         62.11|    294.5|Cancer_Data|     301.0|        benign|\n",
            "|        B|      6.981|         43.79|    143.5|Cancer_Data|     153.0|        benign|\n",
            "|        B|      9.876|         63.95|    298.3|Cancer_Data|     306.0|        benign|\n",
            "|        B|      10.49|         67.41|    336.1|Cancer_Data|     346.0|        benign|\n",
            "|        B|      9.777|          62.5|    290.2|Cancer_Data|     300.0|        benign|\n",
            "|        B|      10.51|         68.64|    334.2|Cancer_Data|     347.0|        benign|\n",
            "+---------+-----------+--------------+---------+-----------+----------+--------------+\n",
            "only showing top 15 rows\n",
            "\n"
          ]
        }
      ],
      "source": [
        "df_benign2 = df_spark_mod.filter((F.col('diagnosis_desc')=='benign')&\n",
        "                                 (F.col('radius_mean')<=10))\n",
        "df_benign2.show(15)"
      ]
    },
    {
      "cell_type": "code",
      "execution_count": 31,
      "metadata": {
        "id": "XelDKgbw8_e_",
        "outputId": "7fcacde6-3aa7-4670-a7dd-9381dd8c29eb",
        "colab": {
          "base_uri": "https://localhost:8080/"
        }
      },
      "outputs": [
        {
          "output_type": "stream",
          "name": "stdout",
          "text": [
            "Base full:    569\n",
            "Base Benign:  357\n",
            "Base Benign2: 84\n"
          ]
        }
      ],
      "source": [
        "print(\"Base full:   \",df_spark_mod.count())\n",
        "print(\"Base Benign: \",df_benign.count())\n",
        "print(\"Base Benign2:\",df_benign2.count())"
      ]
    },
    {
      "cell_type": "markdown",
      "source": [
        "### Exercícios"
      ],
      "metadata": {
        "id": "C51L8vX2cSF9"
      }
    },
    {
      "cell_type": "code",
      "execution_count": 32,
      "metadata": {
        "id": "WSJ4klu18_fA"
      },
      "outputs": [],
      "source": [
        "df = (spark.read.format(\"csv\")\n",
        "      .option(\"header\",\"true\")\n",
        "      .load(\"/content/python_54375/data/realtor-data.csv\")\n",
        "      )"
      ]
    },
    {
      "cell_type": "code",
      "source": [
        "df.show()\n"
      ],
      "metadata": {
        "colab": {
          "base_uri": "https://localhost:8080/"
        },
        "id": "MmenPu4SY2ua",
        "outputId": "084126b8-7bba-4770-b0e2-ee95126df4a6"
      },
      "execution_count": 33,
      "outputs": [
        {
          "output_type": "stream",
          "name": "stdout",
          "text": [
            "+--------+---+----+--------+-------------+-----------+--------+----------+--------------+--------+\n",
            "|  status|bed|bath|acre_lot|         city|      state|zip_code|house_size|prev_sold_date|   price|\n",
            "+--------+---+----+--------+-------------+-----------+--------+----------+--------------+--------+\n",
            "|for_sale|3.0| 2.0|    0.12|     Adjuntas|Puerto Rico|   601.0|     920.0|          NULL|105000.0|\n",
            "|for_sale|4.0| 2.0|    0.08|     Adjuntas|Puerto Rico|   601.0|    1527.0|          NULL| 80000.0|\n",
            "|for_sale|2.0| 1.0|    0.15|   Juana Diaz|Puerto Rico|   795.0|     748.0|          NULL| 67000.0|\n",
            "|for_sale|4.0| 2.0|     0.1|        Ponce|Puerto Rico|   731.0|    1800.0|          NULL|145000.0|\n",
            "|for_sale|6.0| 2.0|    0.05|     Mayaguez|Puerto Rico|   680.0|      NULL|          NULL| 65000.0|\n",
            "|for_sale|4.0| 3.0|    0.46|San Sebastian|Puerto Rico|   612.0|    2520.0|          NULL|179000.0|\n",
            "|for_sale|3.0| 1.0|     0.2|       Ciales|Puerto Rico|   639.0|    2040.0|          NULL| 50000.0|\n",
            "|for_sale|3.0| 2.0|    0.08|        Ponce|Puerto Rico|   731.0|    1050.0|          NULL| 71600.0|\n",
            "|for_sale|2.0| 1.0|    0.09|        Ponce|Puerto Rico|   730.0|    1092.0|          NULL|100000.0|\n",
            "|for_sale|5.0| 3.0|    7.46|   Las Marias|Puerto Rico|   670.0|    5403.0|          NULL|300000.0|\n",
            "|for_sale|3.0| 2.0|   13.39|      Isabela|Puerto Rico|   662.0|    1106.0|          NULL| 89000.0|\n",
            "|for_sale|3.0| 2.0|    0.08|   Juana Diaz|Puerto Rico|   795.0|    1045.0|          NULL|150000.0|\n",
            "|for_sale|3.0| 2.0|     0.1|        Lares|Puerto Rico|   669.0|    4161.0|          NULL|155000.0|\n",
            "|for_sale|5.0| 2.0|    0.12|       Utuado|Puerto Rico|   641.0|    1620.0|          NULL| 79000.0|\n",
            "|for_sale|5.0| 5.0|    0.74|        Ponce|Puerto Rico|   731.0|    2677.0|          NULL|649000.0|\n",
            "|for_sale|3.0| 2.0|    0.08|        Yauco|Puerto Rico|   698.0|    1100.0|          NULL|120000.0|\n",
            "|for_sale|4.0| 4.0|    0.22|     Mayaguez|Puerto Rico|   680.0|    3450.0|          NULL|235000.0|\n",
            "|for_sale|3.0| 2.0|    0.08|        Ponce|Puerto Rico|   728.0|    1500.0|          NULL|105000.0|\n",
            "|for_sale|3.0| 2.0|    3.88|San Sebastian|Puerto Rico|   685.0|    4000.0|          NULL|575000.0|\n",
            "|for_sale|6.0| 3.0|    0.25|       Anasco|Puerto Rico|   610.0|    1230.0|          NULL|140000.0|\n",
            "+--------+---+----+--------+-------------+-----------+--------+----------+--------------+--------+\n",
            "only showing top 20 rows\n",
            "\n"
          ]
        }
      ]
    },
    {
      "cell_type": "code",
      "source": [
        "df.count()"
      ],
      "metadata": {
        "colab": {
          "base_uri": "https://localhost:8080/"
        },
        "id": "IOSySHSXcbJI",
        "outputId": "7457bff7-5239-42fb-97f9-4aec662d106f"
      },
      "execution_count": 34,
      "outputs": [
        {
          "output_type": "execute_result",
          "data": {
            "text/plain": [
              "100000"
            ]
          },
          "metadata": {},
          "execution_count": 34
        }
      ]
    },
    {
      "cell_type": "code",
      "source": [
        "df = df.withColumn('price', F.col('price').cast('float'))"
      ],
      "metadata": {
        "id": "o9kGYkJ2Zt8e"
      },
      "execution_count": 35,
      "outputs": []
    },
    {
      "cell_type": "code",
      "source": [
        "df"
      ],
      "metadata": {
        "colab": {
          "base_uri": "https://localhost:8080/"
        },
        "id": "jfruaUCTY5mB",
        "outputId": "51a3e55c-6b91-4ee2-fe02-ef366fa280d6"
      },
      "execution_count": 36,
      "outputs": [
        {
          "output_type": "execute_result",
          "data": {
            "text/plain": [
              "DataFrame[status: string, bed: string, bath: string, acre_lot: string, city: string, state: string, zip_code: string, house_size: string, prev_sold_date: string, price: float]"
            ]
          },
          "metadata": {},
          "execution_count": 36
        }
      ]
    },
    {
      "cell_type": "code",
      "source": [
        "'''\n",
        "Conte o número de registros no estado de Puerto Rico com preço maior que $100.000.\n",
        "'''\n",
        "df.filter((F.col('state')=='Puerto Rico')&(F.col('price')>100000)).count()"
      ],
      "metadata": {
        "colab": {
          "base_uri": "https://localhost:8080/"
        },
        "id": "XxVp6ub5Y9gQ",
        "outputId": "02e3f9a9-0141-4e02-8a09-84e3bce848d8"
      },
      "execution_count": 37,
      "outputs": [
        {
          "output_type": "execute_result",
          "data": {
            "text/plain": [
              "17127"
            ]
          },
          "metadata": {},
          "execution_count": 37
        }
      ]
    }
  ],
  "metadata": {
    "kernelspec": {
      "display_name": "Python 3",
      "language": "python",
      "name": "python3"
    },
    "language_info": {
      "codemirror_mode": {
        "name": "ipython",
        "version": 3
      },
      "file_extension": ".py",
      "mimetype": "text/x-python",
      "name": "python",
      "nbconvert_exporter": "python",
      "pygments_lexer": "ipython3",
      "version": "3.10.8"
    },
    "orig_nbformat": 4,
    "colab": {
      "provenance": [],
      "include_colab_link": true
    }
  },
  "nbformat": 4,
  "nbformat_minor": 0
}